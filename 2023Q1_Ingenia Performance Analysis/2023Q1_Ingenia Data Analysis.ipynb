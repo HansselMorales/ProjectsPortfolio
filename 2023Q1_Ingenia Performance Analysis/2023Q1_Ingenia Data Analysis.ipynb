{
 "cells": [
  {
   "cell_type": "markdown",
   "id": "f8deaa35",
   "metadata": {},
   "source": [
    "# Ingenia Data Analysis (2023 Q1)"
   ]
  },
  {
   "cell_type": "markdown",
   "id": "7852f2a2",
   "metadata": {},
   "source": [
    "In order to determine how the trends found last year have affected--and possibly improved the company's performance, it's critical to analyze the current performance."
   ]
  },
  {
   "cell_type": "markdown",
   "id": "2c31e89b",
   "metadata": {},
   "source": [
    "## General stats"
   ]
  },
  {
   "cell_type": "code",
   "execution_count": 1,
   "id": "237d6eb2",
   "metadata": {},
   "outputs": [],
   "source": [
    "import pandas as pd\n",
    "import numpy as np\n",
    "import matplotlib.pyplot as plt\n",
    "import seaborn as sns"
   ]
  },
  {
   "cell_type": "code",
   "execution_count": 2,
   "id": "0dee21ec",
   "metadata": {},
   "outputs": [
    {
     "data": {
      "text/html": [
       "<div>\n",
       "<style scoped>\n",
       "    .dataframe tbody tr th:only-of-type {\n",
       "        vertical-align: middle;\n",
       "    }\n",
       "\n",
       "    .dataframe tbody tr th {\n",
       "        vertical-align: top;\n",
       "    }\n",
       "\n",
       "    .dataframe thead th {\n",
       "        text-align: right;\n",
       "    }\n",
       "</style>\n",
       "<table border=\"1\" class=\"dataframe\">\n",
       "  <thead>\n",
       "    <tr style=\"text-align: right;\">\n",
       "      <th></th>\n",
       "      <th>YEAR</th>\n",
       "      <th>MONTH</th>\n",
       "      <th>QUARTER</th>\n",
       "      <th>SITE</th>\n",
       "      <th>TYPE</th>\n",
       "      <th>DESCRIPTION</th>\n",
       "      <th>LOCATION</th>\n",
       "      <th>ANALYST</th>\n",
       "      <th>REQUEST_DATE</th>\n",
       "      <th>SENDING_STATUS</th>\n",
       "      <th>DATE</th>\n",
       "      <th>APPROVAL_STATUS</th>\n",
       "      <th>APPROVAL_DATE</th>\n",
       "      <th>EXECUTION_STATUS</th>\n",
       "      <th>REPORT_DATE</th>\n",
       "      <th>START_DATE</th>\n",
       "      <th>END_DATE</th>\n",
       "      <th>QUOTATION</th>\n",
       "    </tr>\n",
       "  </thead>\n",
       "  <tbody>\n",
       "    <tr>\n",
       "      <th>0</th>\n",
       "      <td>2023</td>\n",
       "      <td>ENERO</td>\n",
       "      <td>Q1</td>\n",
       "      <td>SATÉLITE</td>\n",
       "      <td>TORRE</td>\n",
       "      <td>1. INSPECCIÓN - RELEVAMIENTO Y EE TORRE AUTOSO...</td>\n",
       "      <td>ANCASH</td>\n",
       "      <td>VARGAS</td>\n",
       "      <td>1-Jan</td>\n",
       "      <td>ENVIADA</td>\n",
       "      <td>1-Jan</td>\n",
       "      <td>PENDIENTE</td>\n",
       "      <td>PENDIENTE</td>\n",
       "      <td>SIN EJECUCIÓN</td>\n",
       "      <td>NaN</td>\n",
       "      <td>NaN</td>\n",
       "      <td>NaN</td>\n",
       "      <td>3565.09</td>\n",
       "    </tr>\n",
       "    <tr>\n",
       "      <th>1</th>\n",
       "      <td>2023</td>\n",
       "      <td>ENERO</td>\n",
       "      <td>Q1</td>\n",
       "      <td>CARAZ</td>\n",
       "      <td>TORRE</td>\n",
       "      <td>1. INSPECCIÓN - RELEVAMIENTO Y EE TORRE AUTOSO...</td>\n",
       "      <td>ANCASH</td>\n",
       "      <td>VARGAS</td>\n",
       "      <td>1-Jan</td>\n",
       "      <td>ENVIADA</td>\n",
       "      <td>1-Jan</td>\n",
       "      <td>PENDIENTE</td>\n",
       "      <td>PENDIENTE</td>\n",
       "      <td>SIN EJECUCIÓN</td>\n",
       "      <td>NaN</td>\n",
       "      <td>NaN</td>\n",
       "      <td>NaN</td>\n",
       "      <td>4011.13</td>\n",
       "    </tr>\n",
       "    <tr>\n",
       "      <th>2</th>\n",
       "      <td>2023</td>\n",
       "      <td>ENERO</td>\n",
       "      <td>Q1</td>\n",
       "      <td>VELASCO ASTETE</td>\n",
       "      <td>TORRE</td>\n",
       "      <td>1. INSPECCIÓN - RELEVAMIENTO Y EE TORRE ARRIOS...</td>\n",
       "      <td>CUSCO</td>\n",
       "      <td>VARGAS</td>\n",
       "      <td>1-Jan</td>\n",
       "      <td>ENVIADA</td>\n",
       "      <td>1-Jan</td>\n",
       "      <td>APROBADA</td>\n",
       "      <td>27-Jan</td>\n",
       "      <td>EJECUTADO</td>\n",
       "      <td>20-Feb</td>\n",
       "      <td>9-Feb</td>\n",
       "      <td>9-Feb</td>\n",
       "      <td>2472.94</td>\n",
       "    </tr>\n",
       "    <tr>\n",
       "      <th>3</th>\n",
       "      <td>2023</td>\n",
       "      <td>ENERO</td>\n",
       "      <td>Q1</td>\n",
       "      <td>AMBO</td>\n",
       "      <td>TORRE</td>\n",
       "      <td>1. INSPECCIÓN - RELEVAMIENTO Y EE TORRE AUTOSO...</td>\n",
       "      <td>AMBO</td>\n",
       "      <td>VARGAS</td>\n",
       "      <td>1-Jan</td>\n",
       "      <td>ENVIADA</td>\n",
       "      <td>1-Jan</td>\n",
       "      <td>PENDIENTE</td>\n",
       "      <td>PENDIENTE</td>\n",
       "      <td>SIN EJECUCIÓN</td>\n",
       "      <td>NaN</td>\n",
       "      <td>NaN</td>\n",
       "      <td>NaN</td>\n",
       "      <td>4011.13</td>\n",
       "    </tr>\n",
       "    <tr>\n",
       "      <th>4</th>\n",
       "      <td>2023</td>\n",
       "      <td>ENERO</td>\n",
       "      <td>Q1</td>\n",
       "      <td>AEROPISCO</td>\n",
       "      <td>TORRE</td>\n",
       "      <td>1. INSPECCIÓN - RELEVAMIENTO Y EE TORRE AUTOSO...</td>\n",
       "      <td>ICA</td>\n",
       "      <td>VARGAS</td>\n",
       "      <td>1-Jan</td>\n",
       "      <td>ENVIADA</td>\n",
       "      <td>1-Jan</td>\n",
       "      <td>PENDIENTE</td>\n",
       "      <td>PENDIENTE</td>\n",
       "      <td>SIN EJECUCIÓN</td>\n",
       "      <td>NaN</td>\n",
       "      <td>NaN</td>\n",
       "      <td>NaN</td>\n",
       "      <td>2827.33</td>\n",
       "    </tr>\n",
       "    <tr>\n",
       "      <th>...</th>\n",
       "      <td>...</td>\n",
       "      <td>...</td>\n",
       "      <td>...</td>\n",
       "      <td>...</td>\n",
       "      <td>...</td>\n",
       "      <td>...</td>\n",
       "      <td>...</td>\n",
       "      <td>...</td>\n",
       "      <td>...</td>\n",
       "      <td>...</td>\n",
       "      <td>...</td>\n",
       "      <td>...</td>\n",
       "      <td>...</td>\n",
       "      <td>...</td>\n",
       "      <td>...</td>\n",
       "      <td>...</td>\n",
       "      <td>...</td>\n",
       "      <td>...</td>\n",
       "    </tr>\n",
       "    <tr>\n",
       "      <th>413</th>\n",
       "      <td>2022</td>\n",
       "      <td>DICIEMBRE</td>\n",
       "      <td>Q4</td>\n",
       "      <td>SAN BORJA</td>\n",
       "      <td>INFRA</td>\n",
       "      <td>1. SUMINISTRO E INSTALACIÓN DE CANDADO Y CADEN...</td>\n",
       "      <td>LIMA</td>\n",
       "      <td>ORTEGA</td>\n",
       "      <td>21-Dec</td>\n",
       "      <td>ENVIADA</td>\n",
       "      <td>21-Dec</td>\n",
       "      <td>APROBADA</td>\n",
       "      <td>22-Dec</td>\n",
       "      <td>SIN EJECUCIÓN</td>\n",
       "      <td>NaN</td>\n",
       "      <td>NaN</td>\n",
       "      <td>NaN</td>\n",
       "      <td>203.62</td>\n",
       "    </tr>\n",
       "    <tr>\n",
       "      <th>414</th>\n",
       "      <td>2022</td>\n",
       "      <td>DICIEMBRE</td>\n",
       "      <td>Q4</td>\n",
       "      <td>PICSI</td>\n",
       "      <td>INFRA</td>\n",
       "      <td>1. CAMBIO DE BISAGRAS.</td>\n",
       "      <td>LIMA</td>\n",
       "      <td>ORTEGA</td>\n",
       "      <td>22-Dec</td>\n",
       "      <td>ENVIADA</td>\n",
       "      <td>22-Dec</td>\n",
       "      <td>PENDIENTE</td>\n",
       "      <td>22-Dec</td>\n",
       "      <td>SIN EJECUCIÓN</td>\n",
       "      <td>NaN</td>\n",
       "      <td>NaN</td>\n",
       "      <td>NaN</td>\n",
       "      <td>805.95</td>\n",
       "    </tr>\n",
       "    <tr>\n",
       "      <th>415</th>\n",
       "      <td>2022</td>\n",
       "      <td>DICIEMBRE</td>\n",
       "      <td>Q4</td>\n",
       "      <td>COCHERA MEDIA NETWORKS</td>\n",
       "      <td>INFRA</td>\n",
       "      <td>1. ENCUADRE DE PORTÓN DE INGRESO VEHICULAR.</td>\n",
       "      <td>LIMA</td>\n",
       "      <td>MARTÍNEZ</td>\n",
       "      <td>22-Dec</td>\n",
       "      <td>ENVIADA</td>\n",
       "      <td>23-Dec</td>\n",
       "      <td>PENDIENTE</td>\n",
       "      <td>22-Dec</td>\n",
       "      <td>SIN EJECUCIÓN</td>\n",
       "      <td>NaN</td>\n",
       "      <td>NaN</td>\n",
       "      <td>NaN</td>\n",
       "      <td>916.42</td>\n",
       "    </tr>\n",
       "    <tr>\n",
       "      <th>416</th>\n",
       "      <td>2022</td>\n",
       "      <td>DICIEMBRE</td>\n",
       "      <td>Q4</td>\n",
       "      <td>NUEVA CAÑ</td>\n",
       "      <td>INFRA</td>\n",
       "      <td>1. LIMPIEZA Y FUMIGACIÓN DE SALA DE EQUIPOS.\\n...</td>\n",
       "      <td>LIMA</td>\n",
       "      <td>ORTEGA</td>\n",
       "      <td>26-Dec</td>\n",
       "      <td>ENVIADA</td>\n",
       "      <td>26-Dec</td>\n",
       "      <td>PENDIENTE</td>\n",
       "      <td>22-Dec</td>\n",
       "      <td>SIN EJECUCIÓN</td>\n",
       "      <td>NaN</td>\n",
       "      <td>NaN</td>\n",
       "      <td>NaN</td>\n",
       "      <td>1688.09</td>\n",
       "    </tr>\n",
       "    <tr>\n",
       "      <th>417</th>\n",
       "      <td>2022</td>\n",
       "      <td>DICIEMBRE</td>\n",
       "      <td>Q4</td>\n",
       "      <td>MALA</td>\n",
       "      <td>INFRA</td>\n",
       "      <td>1. ENCUADRE DE PUERTA.</td>\n",
       "      <td>LIMA</td>\n",
       "      <td>ORTEGA</td>\n",
       "      <td>26-Dec</td>\n",
       "      <td>ENVIADA</td>\n",
       "      <td>26-Dec</td>\n",
       "      <td>PENDIENTE</td>\n",
       "      <td>22-Dec</td>\n",
       "      <td>SIN EJECUCIÓN</td>\n",
       "      <td>NaN</td>\n",
       "      <td>NaN</td>\n",
       "      <td>NaN</td>\n",
       "      <td>621.07</td>\n",
       "    </tr>\n",
       "  </tbody>\n",
       "</table>\n",
       "<p>418 rows × 18 columns</p>\n",
       "</div>"
      ],
      "text/plain": [
       "     YEAR      MONTH QUARTER                    SITE   TYPE  \\\n",
       "0    2023      ENERO      Q1                SATÉLITE  TORRE   \n",
       "1    2023      ENERO      Q1                   CARAZ  TORRE   \n",
       "2    2023      ENERO      Q1          VELASCO ASTETE  TORRE   \n",
       "3    2023      ENERO      Q1                    AMBO  TORRE   \n",
       "4    2023      ENERO      Q1               AEROPISCO  TORRE   \n",
       "..    ...        ...     ...                     ...    ...   \n",
       "413  2022  DICIEMBRE      Q4               SAN BORJA  INFRA   \n",
       "414  2022  DICIEMBRE      Q4                   PICSI  INFRA   \n",
       "415  2022  DICIEMBRE      Q4  COCHERA MEDIA NETWORKS  INFRA   \n",
       "416  2022  DICIEMBRE      Q4               NUEVA CAÑ  INFRA   \n",
       "417  2022  DICIEMBRE      Q4                    MALA  INFRA   \n",
       "\n",
       "                                           DESCRIPTION LOCATION   ANALYST  \\\n",
       "0    1. INSPECCIÓN - RELEVAMIENTO Y EE TORRE AUTOSO...   ANCASH    VARGAS   \n",
       "1    1. INSPECCIÓN - RELEVAMIENTO Y EE TORRE AUTOSO...   ANCASH    VARGAS   \n",
       "2    1. INSPECCIÓN - RELEVAMIENTO Y EE TORRE ARRIOS...    CUSCO    VARGAS   \n",
       "3    1. INSPECCIÓN - RELEVAMIENTO Y EE TORRE AUTOSO...     AMBO    VARGAS   \n",
       "4    1. INSPECCIÓN - RELEVAMIENTO Y EE TORRE AUTOSO...      ICA    VARGAS   \n",
       "..                                                 ...      ...       ...   \n",
       "413  1. SUMINISTRO E INSTALACIÓN DE CANDADO Y CADEN...     LIMA    ORTEGA   \n",
       "414                             1. CAMBIO DE BISAGRAS.     LIMA    ORTEGA   \n",
       "415        1. ENCUADRE DE PORTÓN DE INGRESO VEHICULAR.     LIMA  MARTÍNEZ   \n",
       "416  1. LIMPIEZA Y FUMIGACIÓN DE SALA DE EQUIPOS.\\n...     LIMA    ORTEGA   \n",
       "417                             1. ENCUADRE DE PUERTA.     LIMA    ORTEGA   \n",
       "\n",
       "    REQUEST_DATE SENDING_STATUS    DATE APPROVAL_STATUS APPROVAL_DATE  \\\n",
       "0          1-Jan        ENVIADA   1-Jan       PENDIENTE     PENDIENTE   \n",
       "1          1-Jan        ENVIADA   1-Jan       PENDIENTE     PENDIENTE   \n",
       "2          1-Jan        ENVIADA   1-Jan        APROBADA        27-Jan   \n",
       "3          1-Jan        ENVIADA   1-Jan       PENDIENTE     PENDIENTE   \n",
       "4          1-Jan        ENVIADA   1-Jan       PENDIENTE     PENDIENTE   \n",
       "..           ...            ...     ...             ...           ...   \n",
       "413       21-Dec        ENVIADA  21-Dec        APROBADA        22-Dec   \n",
       "414       22-Dec        ENVIADA  22-Dec       PENDIENTE        22-Dec   \n",
       "415       22-Dec        ENVIADA  23-Dec       PENDIENTE        22-Dec   \n",
       "416       26-Dec        ENVIADA  26-Dec       PENDIENTE        22-Dec   \n",
       "417       26-Dec        ENVIADA  26-Dec       PENDIENTE        22-Dec   \n",
       "\n",
       "    EXECUTION_STATUS REPORT_DATE START_DATE END_DATE QUOTATION  \n",
       "0      SIN EJECUCIÓN         NaN        NaN      NaN   3565.09  \n",
       "1      SIN EJECUCIÓN         NaN        NaN      NaN   4011.13  \n",
       "2          EJECUTADO      20-Feb      9-Feb    9-Feb   2472.94  \n",
       "3      SIN EJECUCIÓN         NaN        NaN      NaN   4011.13  \n",
       "4      SIN EJECUCIÓN         NaN        NaN      NaN   2827.33  \n",
       "..               ...         ...        ...      ...       ...  \n",
       "413    SIN EJECUCIÓN         NaN        NaN      NaN    203.62  \n",
       "414    SIN EJECUCIÓN         NaN        NaN      NaN    805.95  \n",
       "415    SIN EJECUCIÓN         NaN        NaN      NaN    916.42  \n",
       "416    SIN EJECUCIÓN         NaN        NaN      NaN   1688.09  \n",
       "417    SIN EJECUCIÓN         NaN        NaN      NaN    621.07  \n",
       "\n",
       "[418 rows x 18 columns]"
      ]
     },
     "execution_count": 2,
     "metadata": {},
     "output_type": "execute_result"
    }
   ],
   "source": [
    "df = pd.read_csv('STATUS ASIGNACIÓN INDRA_GENERAL (HANSSEL)_2023.csv', encoding = 'latin-1', )\n",
    "df"
   ]
  },
  {
   "cell_type": "code",
   "execution_count": 3,
   "id": "876b51ff",
   "metadata": {},
   "outputs": [
    {
     "name": "stdout",
     "output_type": "stream",
     "text": [
      "<class 'pandas.core.frame.DataFrame'>\n",
      "RangeIndex: 418 entries, 0 to 417\n",
      "Data columns (total 18 columns):\n",
      " #   Column            Non-Null Count  Dtype \n",
      "---  ------            --------------  ----- \n",
      " 0   YEAR              418 non-null    int64 \n",
      " 1   MONTH             418 non-null    object\n",
      " 2   QUARTER           418 non-null    object\n",
      " 3   SITE              418 non-null    object\n",
      " 4   TYPE              418 non-null    object\n",
      " 5   DESCRIPTION       418 non-null    object\n",
      " 6   LOCATION          418 non-null    object\n",
      " 7   ANALYST           418 non-null    object\n",
      " 8   REQUEST_DATE      418 non-null    object\n",
      " 9   SENDING_STATUS    418 non-null    object\n",
      " 10  DATE              418 non-null    object\n",
      " 11  APPROVAL_STATUS   418 non-null    object\n",
      " 12  APPROVAL_DATE     418 non-null    object\n",
      " 13  EXECUTION_STATUS  418 non-null    object\n",
      " 14  REPORT_DATE       124 non-null    object\n",
      " 15  START_DATE        126 non-null    object\n",
      " 16  END_DATE          126 non-null    object\n",
      " 17  QUOTATION         418 non-null    object\n",
      "dtypes: int64(1), object(17)\n",
      "memory usage: 58.9+ KB\n"
     ]
    }
   ],
   "source": [
    "df.info()"
   ]
  },
  {
   "cell_type": "code",
   "execution_count": 4,
   "id": "e7f9a40e",
   "metadata": {},
   "outputs": [
    {
     "data": {
      "text/plain": [
       "(418, 18)"
      ]
     },
     "execution_count": 4,
     "metadata": {},
     "output_type": "execute_result"
    }
   ],
   "source": [
    "df.shape"
   ]
  },
  {
   "cell_type": "code",
   "execution_count": 5,
   "id": "30654ba5",
   "metadata": {},
   "outputs": [
    {
     "data": {
      "text/html": [
       "<div>\n",
       "<style scoped>\n",
       "    .dataframe tbody tr th:only-of-type {\n",
       "        vertical-align: middle;\n",
       "    }\n",
       "\n",
       "    .dataframe tbody tr th {\n",
       "        vertical-align: top;\n",
       "    }\n",
       "\n",
       "    .dataframe thead th {\n",
       "        text-align: right;\n",
       "    }\n",
       "</style>\n",
       "<table border=\"1\" class=\"dataframe\">\n",
       "  <thead>\n",
       "    <tr style=\"text-align: right;\">\n",
       "      <th></th>\n",
       "      <th>YEAR</th>\n",
       "    </tr>\n",
       "  </thead>\n",
       "  <tbody>\n",
       "    <tr>\n",
       "      <th>count</th>\n",
       "      <td>418.000000</td>\n",
       "    </tr>\n",
       "    <tr>\n",
       "      <th>mean</th>\n",
       "      <td>2022.251196</td>\n",
       "    </tr>\n",
       "    <tr>\n",
       "      <th>std</th>\n",
       "      <td>0.434221</td>\n",
       "    </tr>\n",
       "    <tr>\n",
       "      <th>min</th>\n",
       "      <td>2022.000000</td>\n",
       "    </tr>\n",
       "    <tr>\n",
       "      <th>25%</th>\n",
       "      <td>2022.000000</td>\n",
       "    </tr>\n",
       "    <tr>\n",
       "      <th>50%</th>\n",
       "      <td>2022.000000</td>\n",
       "    </tr>\n",
       "    <tr>\n",
       "      <th>75%</th>\n",
       "      <td>2022.750000</td>\n",
       "    </tr>\n",
       "    <tr>\n",
       "      <th>max</th>\n",
       "      <td>2023.000000</td>\n",
       "    </tr>\n",
       "  </tbody>\n",
       "</table>\n",
       "</div>"
      ],
      "text/plain": [
       "              YEAR\n",
       "count   418.000000\n",
       "mean   2022.251196\n",
       "std       0.434221\n",
       "min    2022.000000\n",
       "25%    2022.000000\n",
       "50%    2022.000000\n",
       "75%    2022.750000\n",
       "max    2023.000000"
      ]
     },
     "execution_count": 5,
     "metadata": {},
     "output_type": "execute_result"
    }
   ],
   "source": [
    "df.describe()"
   ]
  },
  {
   "cell_type": "markdown",
   "id": "cf20fdbf",
   "metadata": {},
   "source": [
    "#### Transforming \"QUOTATION\" values into numeric values"
   ]
  },
  {
   "cell_type": "code",
   "execution_count": 6,
   "id": "855c66ff",
   "metadata": {},
   "outputs": [],
   "source": [
    "df['QUOTATION'] = pd.to_numeric(df['QUOTATION'], errors='coerce')\n",
    "df = df.replace(np.nan, 0, regex=True)"
   ]
  },
  {
   "cell_type": "code",
   "execution_count": 7,
   "id": "d4fef0db",
   "metadata": {},
   "outputs": [
    {
     "name": "stdout",
     "output_type": "stream",
     "text": [
      "<class 'pandas.core.series.Series'>\n",
      "RangeIndex: 418 entries, 0 to 417\n",
      "Series name: QUOTATION\n",
      "Non-Null Count  Dtype  \n",
      "--------------  -----  \n",
      "418 non-null    float64\n",
      "dtypes: float64(1)\n",
      "memory usage: 3.4 KB\n"
     ]
    }
   ],
   "source": [
    "df['QUOTATION'].info()"
   ]
  },
  {
   "cell_type": "code",
   "execution_count": 8,
   "id": "682a7cf6",
   "metadata": {},
   "outputs": [
    {
     "data": {
      "text/plain": [
       "134574.014436"
      ]
     },
     "execution_count": 8,
     "metadata": {},
     "output_type": "execute_result"
    }
   ],
   "source": [
    "df.loc[(df['YEAR'] == 2023) & (df['APPROVAL_STATUS'] == 'APROBADA'), 'QUOTATION'].sum()"
   ]
  },
  {
   "cell_type": "markdown",
   "id": "71acda93",
   "metadata": {},
   "source": [
    "Total 2023 revenue, so far."
   ]
  },
  {
   "cell_type": "code",
   "execution_count": 9,
   "id": "4aa03ad4",
   "metadata": {},
   "outputs": [
    {
     "data": {
      "text/html": [
       "<div>\n",
       "<style scoped>\n",
       "    .dataframe tbody tr th:only-of-type {\n",
       "        vertical-align: middle;\n",
       "    }\n",
       "\n",
       "    .dataframe tbody tr th {\n",
       "        vertical-align: top;\n",
       "    }\n",
       "\n",
       "    .dataframe thead th {\n",
       "        text-align: right;\n",
       "    }\n",
       "</style>\n",
       "<table border=\"1\" class=\"dataframe\">\n",
       "  <thead>\n",
       "    <tr style=\"text-align: right;\">\n",
       "      <th></th>\n",
       "      <th>QUOTATION</th>\n",
       "    </tr>\n",
       "    <tr>\n",
       "      <th>TYPE</th>\n",
       "      <th></th>\n",
       "    </tr>\n",
       "  </thead>\n",
       "  <tbody>\n",
       "    <tr>\n",
       "      <th>INFRA</th>\n",
       "      <td>67328.980116</td>\n",
       "    </tr>\n",
       "    <tr>\n",
       "      <th>TORRE</th>\n",
       "      <td>67245.034320</td>\n",
       "    </tr>\n",
       "  </tbody>\n",
       "</table>\n",
       "</div>"
      ],
      "text/plain": [
       "          QUOTATION\n",
       "TYPE               \n",
       "INFRA  67328.980116\n",
       "TORRE  67245.034320"
      ]
     },
     "execution_count": 9,
     "metadata": {},
     "output_type": "execute_result"
    }
   ],
   "source": [
    "df.loc[(df['YEAR'] == 2023) & (df['APPROVAL_STATUS'] == 'APROBADA'), 'QUOTATION'].groupby(df['TYPE']).sum().to_frame()"
   ]
  },
  {
   "cell_type": "markdown",
   "id": "abd42eba",
   "metadata": {},
   "source": [
    "Tower (TORRE) related services have brought much more revenue than Infrastructure (INFRA) related ones, so far."
   ]
  },
  {
   "cell_type": "markdown",
   "id": "8b0b1392",
   "metadata": {},
   "source": [
    "## Comparison between 2022 and 2023 data"
   ]
  },
  {
   "cell_type": "code",
   "execution_count": 10,
   "id": "152f4863",
   "metadata": {},
   "outputs": [
    {
     "data": {
      "text/html": [
       "<div>\n",
       "<style scoped>\n",
       "    .dataframe tbody tr th:only-of-type {\n",
       "        vertical-align: middle;\n",
       "    }\n",
       "\n",
       "    .dataframe tbody tr th {\n",
       "        vertical-align: top;\n",
       "    }\n",
       "\n",
       "    .dataframe thead th {\n",
       "        text-align: right;\n",
       "    }\n",
       "</style>\n",
       "<table border=\"1\" class=\"dataframe\">\n",
       "  <thead>\n",
       "    <tr style=\"text-align: right;\">\n",
       "      <th></th>\n",
       "      <th>sum</th>\n",
       "      <th>count</th>\n",
       "    </tr>\n",
       "    <tr>\n",
       "      <th>YEAR</th>\n",
       "      <th></th>\n",
       "      <th></th>\n",
       "    </tr>\n",
       "  </thead>\n",
       "  <tbody>\n",
       "    <tr>\n",
       "      <th>2022</th>\n",
       "      <td>347963.560000</td>\n",
       "      <td>108</td>\n",
       "    </tr>\n",
       "    <tr>\n",
       "      <th>2023</th>\n",
       "      <td>134574.014436</td>\n",
       "      <td>30</td>\n",
       "    </tr>\n",
       "  </tbody>\n",
       "</table>\n",
       "</div>"
      ],
      "text/plain": [
       "                sum  count\n",
       "YEAR                      \n",
       "2022  347963.560000    108\n",
       "2023  134574.014436     30"
      ]
     },
     "execution_count": 10,
     "metadata": {},
     "output_type": "execute_result"
    }
   ],
   "source": [
    "revenue_per_year = df.loc[df['APPROVAL_STATUS'] == 'APROBADA', 'QUOTATION'].groupby(df['YEAR'])\n",
    "revenue_per_year.agg(['sum', 'count'])"
   ]
  },
  {
   "cell_type": "code",
   "execution_count": 11,
   "id": "1d7f2281",
   "metadata": {},
   "outputs": [
    {
     "data": {
      "image/png": "[encoded data removed]",
      "text/plain": [
       "<Figure size 640x480 with 1 Axes>"
      ]
     },
     "metadata": {},
     "output_type": "display_data"
    }
   ],
   "source": [
    "revenue_per_year.sum().plot(kind='bar')\n",
    "plt.title('Revenue per Year')\n",
    "plt.show()"
   ]
  },
  {
   "cell_type": "markdown",
   "id": "d787d567",
   "metadata": {},
   "source": [
    "2023's revenue has reached a 38.7% of 2022's total revenue."
   ]
  },
  {
   "cell_type": "code",
   "execution_count": 12,
   "id": "f91c7a51",
   "metadata": {},
   "outputs": [
    {
     "data": {
      "text/html": [
       "<div>\n",
       "<style scoped>\n",
       "    .dataframe tbody tr th:only-of-type {\n",
       "        vertical-align: middle;\n",
       "    }\n",
       "\n",
       "    .dataframe tbody tr th {\n",
       "        vertical-align: top;\n",
       "    }\n",
       "\n",
       "    .dataframe thead th {\n",
       "        text-align: right;\n",
       "    }\n",
       "</style>\n",
       "<table border=\"1\" class=\"dataframe\">\n",
       "  <thead>\n",
       "    <tr style=\"text-align: right;\">\n",
       "      <th></th>\n",
       "      <th></th>\n",
       "      <th>QUOTATION</th>\n",
       "    </tr>\n",
       "    <tr>\n",
       "      <th>YEAR</th>\n",
       "      <th>TYPE</th>\n",
       "      <th></th>\n",
       "    </tr>\n",
       "  </thead>\n",
       "  <tbody>\n",
       "    <tr>\n",
       "      <th rowspan=\"2\" valign=\"top\">2022</th>\n",
       "      <th>INFRA</th>\n",
       "      <td>209121.780000</td>\n",
       "    </tr>\n",
       "    <tr>\n",
       "      <th>TORRE</th>\n",
       "      <td>138841.780000</td>\n",
       "    </tr>\n",
       "    <tr>\n",
       "      <th rowspan=\"2\" valign=\"top\">2023</th>\n",
       "      <th>INFRA</th>\n",
       "      <td>67328.980116</td>\n",
       "    </tr>\n",
       "    <tr>\n",
       "      <th>TORRE</th>\n",
       "      <td>67245.034320</td>\n",
       "    </tr>\n",
       "  </tbody>\n",
       "</table>\n",
       "</div>"
      ],
      "text/plain": [
       "                QUOTATION\n",
       "YEAR TYPE                \n",
       "2022 INFRA  209121.780000\n",
       "     TORRE  138841.780000\n",
       "2023 INFRA   67328.980116\n",
       "     TORRE   67245.034320"
      ]
     },
     "execution_count": 12,
     "metadata": {},
     "output_type": "execute_result"
    }
   ],
   "source": [
    "revenue_per_type_year = df.loc[df['APPROVAL_STATUS'] == 'APROBADA', 'QUOTATION'].groupby([df['YEAR'], df['TYPE']]).sum().to_frame()\n",
    "revenue_per_type_year"
   ]
  },
  {
   "cell_type": "code",
   "execution_count": 13,
   "id": "1731d2dd",
   "metadata": {},
   "outputs": [
    {
     "data": {
      "image/png": "[encoded data removed]",
      "text/plain": [
       "<Figure size 640x480 with 1 Axes>"
      ]
     },
     "metadata": {},
     "output_type": "display_data"
    }
   ],
   "source": [
    "revenue_per_type_year.plot(kind='bar')\n",
    "plt.title('Renevue per Type of Service')\n",
    "plt.show()"
   ]
  },
  {
   "cell_type": "markdown",
   "id": "70df0e54",
   "metadata": {},
   "source": [
    "Tower services represent 50%+ of 2023's overall revenue."
   ]
  },
  {
   "cell_type": "code",
   "execution_count": 14,
   "id": "902a5da3",
   "metadata": {},
   "outputs": [
    {
     "data": {
      "text/html": [
       "<div>\n",
       "<style scoped>\n",
       "    .dataframe tbody tr th:only-of-type {\n",
       "        vertical-align: middle;\n",
       "    }\n",
       "\n",
       "    .dataframe tbody tr th {\n",
       "        vertical-align: top;\n",
       "    }\n",
       "\n",
       "    .dataframe thead th {\n",
       "        text-align: right;\n",
       "    }\n",
       "</style>\n",
       "<table border=\"1\" class=\"dataframe\">\n",
       "  <thead>\n",
       "    <tr style=\"text-align: right;\">\n",
       "      <th></th>\n",
       "      <th></th>\n",
       "      <th>QUOTATION</th>\n",
       "    </tr>\n",
       "    <tr>\n",
       "      <th>YEAR</th>\n",
       "      <th>QUARTER</th>\n",
       "      <th></th>\n",
       "    </tr>\n",
       "  </thead>\n",
       "  <tbody>\n",
       "    <tr>\n",
       "      <th rowspan=\"4\" valign=\"top\">2022</th>\n",
       "      <th>Q1</th>\n",
       "      <td>34409.230000</td>\n",
       "    </tr>\n",
       "    <tr>\n",
       "      <th>Q2</th>\n",
       "      <td>136040.880000</td>\n",
       "    </tr>\n",
       "    <tr>\n",
       "      <th>Q3</th>\n",
       "      <td>55571.040000</td>\n",
       "    </tr>\n",
       "    <tr>\n",
       "      <th>Q4</th>\n",
       "      <td>121942.410000</td>\n",
       "    </tr>\n",
       "    <tr>\n",
       "      <th>2023</th>\n",
       "      <th>Q1</th>\n",
       "      <td>134574.014436</td>\n",
       "    </tr>\n",
       "  </tbody>\n",
       "</table>\n",
       "</div>"
      ],
      "text/plain": [
       "                  QUOTATION\n",
       "YEAR QUARTER               \n",
       "2022 Q1        34409.230000\n",
       "     Q2       136040.880000\n",
       "     Q3        55571.040000\n",
       "     Q4       121942.410000\n",
       "2023 Q1       134574.014436"
      ]
     },
     "execution_count": 14,
     "metadata": {},
     "output_type": "execute_result"
    }
   ],
   "source": [
    "df.loc[df['APPROVAL_STATUS'] == 'APROBADA', 'QUOTATION'].groupby([df['YEAR'], df['QUARTER']]).sum().to_frame()"
   ]
  },
  {
   "cell_type": "code",
   "execution_count": 15,
   "id": "f685f470",
   "metadata": {},
   "outputs": [
    {
     "data": {
      "image/png": "[encoded data removed]",
      "text/plain": [
       "<Figure size 640x480 with 1 Axes>"
      ]
     },
     "metadata": {},
     "output_type": "display_data"
    }
   ],
   "source": [
    "df.loc[df['APPROVAL_STATUS'] == 'APROBADA', 'QUOTATION'].groupby([df['YEAR'], df['QUARTER']]).sum().to_frame().plot(kind='bar')\n",
    "plt.title('Revenue per Quarter')\n",
    "plt.show()"
   ]
  },
  {
   "cell_type": "markdown",
   "id": "5e4b356f",
   "metadata": {},
   "source": [
    "Q1's revenue (Mar 2023) has already overcome 2022 Q1's revenue as well as 2022 Q3's revenue and Q4's revenue."
   ]
  },
  {
   "cell_type": "markdown",
   "id": "03e94709",
   "metadata": {},
   "source": [
    "## 2023 stats"
   ]
  },
  {
   "cell_type": "code",
   "execution_count": 16,
   "id": "18ca3554",
   "metadata": {},
   "outputs": [
    {
     "data": {
      "text/html": [
       "<div>\n",
       "<style scoped>\n",
       "    .dataframe tbody tr th:only-of-type {\n",
       "        vertical-align: middle;\n",
       "    }\n",
       "\n",
       "    .dataframe tbody tr th {\n",
       "        vertical-align: top;\n",
       "    }\n",
       "\n",
       "    .dataframe thead th {\n",
       "        text-align: right;\n",
       "    }\n",
       "</style>\n",
       "<table border=\"1\" class=\"dataframe\">\n",
       "  <thead>\n",
       "    <tr style=\"text-align: right;\">\n",
       "      <th></th>\n",
       "      <th>sum</th>\n",
       "      <th>count</th>\n",
       "    </tr>\n",
       "    <tr>\n",
       "      <th>ANALYST</th>\n",
       "      <th></th>\n",
       "      <th></th>\n",
       "    </tr>\n",
       "  </thead>\n",
       "  <tbody>\n",
       "    <tr>\n",
       "      <th>BARRENECHEA</th>\n",
       "      <td>3400.000000</td>\n",
       "      <td>8</td>\n",
       "    </tr>\n",
       "    <tr>\n",
       "      <th>MARTÍNEZ</th>\n",
       "      <td>11191.580000</td>\n",
       "      <td>2</td>\n",
       "    </tr>\n",
       "    <tr>\n",
       "      <th>ORTEGA</th>\n",
       "      <td>590.140000</td>\n",
       "      <td>1</td>\n",
       "    </tr>\n",
       "    <tr>\n",
       "      <th>VARGAS</th>\n",
       "      <td>119392.294436</td>\n",
       "      <td>19</td>\n",
       "    </tr>\n",
       "  </tbody>\n",
       "</table>\n",
       "</div>"
      ],
      "text/plain": [
       "                       sum  count\n",
       "ANALYST                          \n",
       "BARRENECHEA    3400.000000      8\n",
       "MARTÍNEZ      11191.580000      2\n",
       "ORTEGA          590.140000      1\n",
       "VARGAS       119392.294436     19"
      ]
     },
     "execution_count": 16,
     "metadata": {},
     "output_type": "execute_result"
    }
   ],
   "source": [
    "df.loc[(df['APPROVAL_STATUS'] == 'APROBADA') & (df['YEAR'] == 2023), 'QUOTATION'].groupby(df['ANALYST']).agg(['sum', 'count'])"
   ]
  },
  {
   "cell_type": "code",
   "execution_count": 17,
   "id": "fcc4896f",
   "metadata": {},
   "outputs": [
    {
     "data": {
      "image/png": "[encoded data removed]",
      "text/plain": [
       "<Figure size 640x480 with 1 Axes>"
      ]
     },
     "metadata": {},
     "output_type": "display_data"
    }
   ],
   "source": [
    "df.loc[(df['APPROVAL_STATUS'] == 'APROBADA') & (df['YEAR'] == 2023), 'QUOTATION'].groupby(df['ANALYST']).sum().plot(kind='bar')\n",
    "plt.title('Revenue per Analyst')\n",
    "plt.show()"
   ]
  },
  {
   "cell_type": "markdown",
   "id": "9d7b97c9",
   "metadata": {},
   "source": [
    "Vargas has been the most profitable analyst, so far. The incomes generated through him represent 85%+ of 2023's overall revenue."
   ]
  },
  {
   "cell_type": "code",
   "execution_count": 18,
   "id": "a2c115f2",
   "metadata": {},
   "outputs": [
    {
     "data": {
      "text/plain": [
       "<seaborn.axisgrid.FacetGrid at 0x2bec73b0370>"
      ]
     },
     "execution_count": 18,
     "metadata": {},
     "output_type": "execute_result"
    },
    {
     "data": {
      "image/png": "[encoded data removed]",
      "text/plain": [
       "<Figure size 1143.11x1000 with 1 Axes>"
      ]
     },
     "metadata": {},
     "output_type": "display_data"
    }
   ],
   "source": [
    "sns.catplot(data = df.loc[(df['APPROVAL_STATUS'] == 'APROBADA') & (df['YEAR'] == 2023)], y='MONTH', x='QUOTATION', kind='box',\n",
    "            hue='APPROVAL_STATUS', height=10, aspect=1\n",
    ")"
   ]
  },
  {
   "cell_type": "markdown",
   "id": "edc72779",
   "metadata": {},
   "source": [
    "## Conclusions"
   ]
  },
  {
   "cell_type": "markdown",
   "id": "edac7153",
   "metadata": {},
   "source": [
    "1. Since 2023 Q1's revenue has largely overcome 2022 Q1's revenue (4X), it's correct to affirm that the current performance is doing great."
   ]
  },
  {
   "cell_type": "markdown",
   "id": "834a43c5",
   "metadata": {},
   "source": [
    "2. 50%+ of 2023's revenue has been produced by the execution of Tower services."
   ]
  },
  {
   "cell_type": "markdown",
   "id": "087ccfc8",
   "metadata": {},
   "source": [
    "3. 85%+ of 2023's revenue has been produced by the execution of Vargas' approved services, as determined in 2022's Analysis. Given that, the insights found last year have been determinant to predict which Analyst was the top priority."
   ]
  },
  {
   "cell_type": "code",
   "execution_count": 19,
   "id": "cc601ceb",
   "metadata": {},
   "outputs": [
    {
     "data": {
      "text/html": [
       "<div>\n",
       "<style scoped>\n",
       "    .dataframe tbody tr th:only-of-type {\n",
       "        vertical-align: middle;\n",
       "    }\n",
       "\n",
       "    .dataframe tbody tr th {\n",
       "        vertical-align: top;\n",
       "    }\n",
       "\n",
       "    .dataframe thead th {\n",
       "        text-align: right;\n",
       "    }\n",
       "</style>\n",
       "<table border=\"1\" class=\"dataframe\">\n",
       "  <thead>\n",
       "    <tr style=\"text-align: right;\">\n",
       "      <th></th>\n",
       "      <th></th>\n",
       "      <th></th>\n",
       "      <th>sum</th>\n",
       "      <th>count</th>\n",
       "    </tr>\n",
       "    <tr>\n",
       "      <th>YEAR</th>\n",
       "      <th>QUARTER</th>\n",
       "      <th>TYPE</th>\n",
       "      <th></th>\n",
       "      <th></th>\n",
       "    </tr>\n",
       "  </thead>\n",
       "  <tbody>\n",
       "    <tr>\n",
       "      <th rowspan=\"7\" valign=\"top\">2022</th>\n",
       "      <th>Q1</th>\n",
       "      <th>INFRA</th>\n",
       "      <td>34409.230000</td>\n",
       "      <td>15</td>\n",
       "    </tr>\n",
       "    <tr>\n",
       "      <th rowspan=\"2\" valign=\"top\">Q2</th>\n",
       "      <th>INFRA</th>\n",
       "      <td>85373.070000</td>\n",
       "      <td>19</td>\n",
       "    </tr>\n",
       "    <tr>\n",
       "      <th>TORRE</th>\n",
       "      <td>50667.810000</td>\n",
       "      <td>11</td>\n",
       "    </tr>\n",
       "    <tr>\n",
       "      <th rowspan=\"2\" valign=\"top\">Q3</th>\n",
       "      <th>INFRA</th>\n",
       "      <td>14607.130000</td>\n",
       "      <td>13</td>\n",
       "    </tr>\n",
       "    <tr>\n",
       "      <th>TORRE</th>\n",
       "      <td>40963.910000</td>\n",
       "      <td>18</td>\n",
       "    </tr>\n",
       "    <tr>\n",
       "      <th rowspan=\"2\" valign=\"top\">Q4</th>\n",
       "      <th>INFRA</th>\n",
       "      <td>74732.350000</td>\n",
       "      <td>26</td>\n",
       "    </tr>\n",
       "    <tr>\n",
       "      <th>TORRE</th>\n",
       "      <td>47210.060000</td>\n",
       "      <td>6</td>\n",
       "    </tr>\n",
       "    <tr>\n",
       "      <th rowspan=\"2\" valign=\"top\">2023</th>\n",
       "      <th rowspan=\"2\" valign=\"top\">Q1</th>\n",
       "      <th>INFRA</th>\n",
       "      <td>67328.980116</td>\n",
       "      <td>17</td>\n",
       "    </tr>\n",
       "    <tr>\n",
       "      <th>TORRE</th>\n",
       "      <td>67245.034320</td>\n",
       "      <td>13</td>\n",
       "    </tr>\n",
       "  </tbody>\n",
       "</table>\n",
       "</div>"
      ],
      "text/plain": [
       "                             sum  count\n",
       "YEAR QUARTER TYPE                      \n",
       "2022 Q1      INFRA  34409.230000     15\n",
       "     Q2      INFRA  85373.070000     19\n",
       "             TORRE  50667.810000     11\n",
       "     Q3      INFRA  14607.130000     13\n",
       "             TORRE  40963.910000     18\n",
       "     Q4      INFRA  74732.350000     26\n",
       "             TORRE  47210.060000      6\n",
       "2023 Q1      INFRA  67328.980116     17\n",
       "             TORRE  67245.034320     13"
      ]
     },
     "execution_count": 19,
     "metadata": {},
     "output_type": "execute_result"
    }
   ],
   "source": [
    "revenue_per_type_year_quarter = df.loc[(df['APPROVAL_STATUS'] == 'APROBADA'), 'QUOTATION'].groupby([df['YEAR'], df['QUARTER'], df['TYPE']]).agg(['sum', 'count'])\n",
    "revenue_per_type_year_quarter"
   ]
  },
  {
   "cell_type": "code",
   "execution_count": 20,
   "id": "1e048495",
   "metadata": {},
   "outputs": [
    {
     "data": {
      "text/html": [
       "<div>\n",
       "<style scoped>\n",
       "    .dataframe tbody tr th:only-of-type {\n",
       "        vertical-align: middle;\n",
       "    }\n",
       "\n",
       "    .dataframe tbody tr th {\n",
       "        vertical-align: top;\n",
       "    }\n",
       "\n",
       "    .dataframe thead th {\n",
       "        text-align: right;\n",
       "    }\n",
       "</style>\n",
       "<table border=\"1\" class=\"dataframe\">\n",
       "  <thead>\n",
       "    <tr style=\"text-align: right;\">\n",
       "      <th></th>\n",
       "      <th></th>\n",
       "      <th>sum</th>\n",
       "      <th>count</th>\n",
       "    </tr>\n",
       "    <tr>\n",
       "      <th>YEAR</th>\n",
       "      <th>LOCATION</th>\n",
       "      <th></th>\n",
       "      <th></th>\n",
       "    </tr>\n",
       "  </thead>\n",
       "  <tbody>\n",
       "    <tr>\n",
       "      <th rowspan=\"24\" valign=\"top\">2022</th>\n",
       "      <th>AMAZONAS</th>\n",
       "      <td>2800.000000</td>\n",
       "      <td>1</td>\n",
       "    </tr>\n",
       "    <tr>\n",
       "      <th>APURÍMAC</th>\n",
       "      <td>0.000000</td>\n",
       "      <td>1</td>\n",
       "    </tr>\n",
       "    <tr>\n",
       "      <th>AREQUIPA</th>\n",
       "      <td>24478.930000</td>\n",
       "      <td>8</td>\n",
       "    </tr>\n",
       "    <tr>\n",
       "      <th>AYACUCHO</th>\n",
       "      <td>989.640000</td>\n",
       "      <td>1</td>\n",
       "    </tr>\n",
       "    <tr>\n",
       "      <th>CAJAMARCA</th>\n",
       "      <td>7364.460000</td>\n",
       "      <td>6</td>\n",
       "    </tr>\n",
       "    <tr>\n",
       "      <th>CHICLAYO</th>\n",
       "      <td>187062.550000</td>\n",
       "      <td>29</td>\n",
       "    </tr>\n",
       "    <tr>\n",
       "      <th>CHIMBOTE</th>\n",
       "      <td>2103.600000</td>\n",
       "      <td>5</td>\n",
       "    </tr>\n",
       "    <tr>\n",
       "      <th>CUSCO</th>\n",
       "      <td>33870.570000</td>\n",
       "      <td>1</td>\n",
       "    </tr>\n",
       "    <tr>\n",
       "      <th>HUANCAYO</th>\n",
       "      <td>5334.050000</td>\n",
       "      <td>3</td>\n",
       "    </tr>\n",
       "    <tr>\n",
       "      <th>ICA</th>\n",
       "      <td>18762.070000</td>\n",
       "      <td>6</td>\n",
       "    </tr>\n",
       "    <tr>\n",
       "      <th>IQUITOS</th>\n",
       "      <td>50272.430000</td>\n",
       "      <td>8</td>\n",
       "    </tr>\n",
       "    <tr>\n",
       "      <th>JUANJUI</th>\n",
       "      <td>2800.000000</td>\n",
       "      <td>1</td>\n",
       "    </tr>\n",
       "    <tr>\n",
       "      <th>JUNÍN</th>\n",
       "      <td>23674.020000</td>\n",
       "      <td>6</td>\n",
       "    </tr>\n",
       "    <tr>\n",
       "      <th>LAMAS</th>\n",
       "      <td>95090.390000</td>\n",
       "      <td>8</td>\n",
       "    </tr>\n",
       "    <tr>\n",
       "      <th>LIMA</th>\n",
       "      <td>736237.370000</td>\n",
       "      <td>135</td>\n",
       "    </tr>\n",
       "    <tr>\n",
       "      <th>MOYOBAMBA</th>\n",
       "      <td>54821.850000</td>\n",
       "      <td>2</td>\n",
       "    </tr>\n",
       "    <tr>\n",
       "      <th>PASCO</th>\n",
       "      <td>23324.330000</td>\n",
       "      <td>6</td>\n",
       "    </tr>\n",
       "    <tr>\n",
       "      <th>PIURA</th>\n",
       "      <td>129739.840000</td>\n",
       "      <td>26</td>\n",
       "    </tr>\n",
       "    <tr>\n",
       "      <th>TARAPOTO</th>\n",
       "      <td>14582.580000</td>\n",
       "      <td>2</td>\n",
       "    </tr>\n",
       "    <tr>\n",
       "      <th>TRUJILLO</th>\n",
       "      <td>161975.170000</td>\n",
       "      <td>17</td>\n",
       "    </tr>\n",
       "    <tr>\n",
       "      <th>TUMBES</th>\n",
       "      <td>116313.760000</td>\n",
       "      <td>5</td>\n",
       "    </tr>\n",
       "    <tr>\n",
       "      <th>UCAYALI</th>\n",
       "      <td>1037.940000</td>\n",
       "      <td>1</td>\n",
       "    </tr>\n",
       "    <tr>\n",
       "      <th>VARIOS</th>\n",
       "      <td>309147.510000</td>\n",
       "      <td>12</td>\n",
       "    </tr>\n",
       "    <tr>\n",
       "      <th>ÁNCASH</th>\n",
       "      <td>95924.360000</td>\n",
       "      <td>23</td>\n",
       "    </tr>\n",
       "    <tr>\n",
       "      <th rowspan=\"17\" valign=\"top\">2023</th>\n",
       "      <th>AMAZONAS</th>\n",
       "      <td>14357.330000</td>\n",
       "      <td>1</td>\n",
       "    </tr>\n",
       "    <tr>\n",
       "      <th>AMBO</th>\n",
       "      <td>4011.130000</td>\n",
       "      <td>1</td>\n",
       "    </tr>\n",
       "    <tr>\n",
       "      <th>ANCASH</th>\n",
       "      <td>15626.870000</td>\n",
       "      <td>5</td>\n",
       "    </tr>\n",
       "    <tr>\n",
       "      <th>AREQUIPA</th>\n",
       "      <td>41929.119700</td>\n",
       "      <td>8</td>\n",
       "    </tr>\n",
       "    <tr>\n",
       "      <th>CHICLAYO</th>\n",
       "      <td>14146.914280</td>\n",
       "      <td>4</td>\n",
       "    </tr>\n",
       "    <tr>\n",
       "      <th>CUSCO</th>\n",
       "      <td>2472.940000</td>\n",
       "      <td>1</td>\n",
       "    </tr>\n",
       "    <tr>\n",
       "      <th>HUANCAVELICA</th>\n",
       "      <td>4806.920000</td>\n",
       "      <td>2</td>\n",
       "    </tr>\n",
       "    <tr>\n",
       "      <th>HUANCAYO</th>\n",
       "      <td>2743.860000</td>\n",
       "      <td>2</td>\n",
       "    </tr>\n",
       "    <tr>\n",
       "      <th>ICA</th>\n",
       "      <td>3865.270000</td>\n",
       "      <td>2</td>\n",
       "    </tr>\n",
       "    <tr>\n",
       "      <th>LAMAS</th>\n",
       "      <td>111539.950000</td>\n",
       "      <td>6</td>\n",
       "    </tr>\n",
       "    <tr>\n",
       "      <th>LIMA</th>\n",
       "      <td>182715.630606</td>\n",
       "      <td>51</td>\n",
       "    </tr>\n",
       "    <tr>\n",
       "      <th>PASCO</th>\n",
       "      <td>12373.670000</td>\n",
       "      <td>2</td>\n",
       "    </tr>\n",
       "    <tr>\n",
       "      <th>PIURA</th>\n",
       "      <td>42352.300000</td>\n",
       "      <td>3</td>\n",
       "    </tr>\n",
       "    <tr>\n",
       "      <th>PUNO</th>\n",
       "      <td>7401.710000</td>\n",
       "      <td>3</td>\n",
       "    </tr>\n",
       "    <tr>\n",
       "      <th>TACNA</th>\n",
       "      <td>13989.218499</td>\n",
       "      <td>7</td>\n",
       "    </tr>\n",
       "    <tr>\n",
       "      <th>TRUJILLO</th>\n",
       "      <td>24755.767500</td>\n",
       "      <td>4</td>\n",
       "    </tr>\n",
       "    <tr>\n",
       "      <th>TUMBES</th>\n",
       "      <td>43737.500000</td>\n",
       "      <td>3</td>\n",
       "    </tr>\n",
       "  </tbody>\n",
       "</table>\n",
       "</div>"
      ],
      "text/plain": [
       "                             sum  count\n",
       "YEAR LOCATION                          \n",
       "2022 AMAZONAS        2800.000000      1\n",
       "     APURÍMAC           0.000000      1\n",
       "     AREQUIPA       24478.930000      8\n",
       "     AYACUCHO         989.640000      1\n",
       "     CAJAMARCA       7364.460000      6\n",
       "     CHICLAYO      187062.550000     29\n",
       "     CHIMBOTE        2103.600000      5\n",
       "     CUSCO          33870.570000      1\n",
       "     HUANCAYO        5334.050000      3\n",
       "     ICA            18762.070000      6\n",
       "     IQUITOS        50272.430000      8\n",
       "     JUANJUI         2800.000000      1\n",
       "     JUNÍN          23674.020000      6\n",
       "     LAMAS          95090.390000      8\n",
       "     LIMA          736237.370000    135\n",
       "     MOYOBAMBA      54821.850000      2\n",
       "     PASCO          23324.330000      6\n",
       "     PIURA         129739.840000     26\n",
       "     TARAPOTO       14582.580000      2\n",
       "     TRUJILLO      161975.170000     17\n",
       "     TUMBES        116313.760000      5\n",
       "     UCAYALI         1037.940000      1\n",
       "     VARIOS        309147.510000     12\n",
       "     ÁNCASH         95924.360000     23\n",
       "2023 AMAZONAS       14357.330000      1\n",
       "     AMBO            4011.130000      1\n",
       "     ANCASH         15626.870000      5\n",
       "     AREQUIPA       41929.119700      8\n",
       "     CHICLAYO       14146.914280      4\n",
       "     CUSCO           2472.940000      1\n",
       "     HUANCAVELICA    4806.920000      2\n",
       "     HUANCAYO        2743.860000      2\n",
       "     ICA             3865.270000      2\n",
       "     LAMAS         111539.950000      6\n",
       "     LIMA          182715.630606     51\n",
       "     PASCO          12373.670000      2\n",
       "     PIURA          42352.300000      3\n",
       "     PUNO            7401.710000      3\n",
       "     TACNA          13989.218499      7\n",
       "     TRUJILLO       24755.767500      4\n",
       "     TUMBES         43737.500000      3"
      ]
     },
     "execution_count": 20,
     "metadata": {},
     "output_type": "execute_result"
    }
   ],
   "source": [
    "#GENERAL\n",
    "requests_per_location = df['QUOTATION'].groupby([df['YEAR'], df['LOCATION']]).agg(['sum', 'count'])\n",
    "requests_per_location"
   ]
  },
  {
   "cell_type": "code",
   "execution_count": 21,
   "id": "419375fd",
   "metadata": {},
   "outputs": [
    {
     "data": {
      "image/png": "[encoded data removed]",
      "text/plain": [
       "<Figure size 640x480 with 1 Axes>"
      ]
     },
     "metadata": {},
     "output_type": "display_data"
    }
   ],
   "source": [
    "#GENERAL\n",
    "df['QUOTATION'].groupby(df['LOCATION']).sum().plot(kind='bar')\n",
    "plt.title('Quotation per Zone')\n",
    "plt.show()"
   ]
  },
  {
   "cell_type": "code",
   "execution_count": 22,
   "id": "9fcf9525",
   "metadata": {},
   "outputs": [
    {
     "data": {
      "image/png": "[encoded data removed]",
      "text/plain": [
       "<Figure size 640x480 with 1 Axes>"
      ]
     },
     "metadata": {},
     "output_type": "display_data"
    }
   ],
   "source": [
    "#PENDING\n",
    "df.loc[df['APPROVAL_STATUS'] == 'PENDIENTE', 'QUOTATION'].groupby(df['LOCATION']).sum().plot(kind='bar')\n",
    "plt.title('Pending per Zone')\n",
    "plt.show()"
   ]
  },
  {
   "cell_type": "code",
   "execution_count": 23,
   "id": "b54a2bb1",
   "metadata": {},
   "outputs": [
    {
     "data": {
      "text/html": [
       "<div>\n",
       "<style scoped>\n",
       "    .dataframe tbody tr th:only-of-type {\n",
       "        vertical-align: middle;\n",
       "    }\n",
       "\n",
       "    .dataframe tbody tr th {\n",
       "        vertical-align: top;\n",
       "    }\n",
       "\n",
       "    .dataframe thead th {\n",
       "        text-align: right;\n",
       "    }\n",
       "</style>\n",
       "<table border=\"1\" class=\"dataframe\">\n",
       "  <thead>\n",
       "    <tr style=\"text-align: right;\">\n",
       "      <th></th>\n",
       "      <th>sum</th>\n",
       "      <th>count</th>\n",
       "    </tr>\n",
       "    <tr>\n",
       "      <th>APPROVAL_STATUS</th>\n",
       "      <th></th>\n",
       "      <th></th>\n",
       "    </tr>\n",
       "  </thead>\n",
       "  <tbody>\n",
       "    <tr>\n",
       "      <th>APROBADA</th>\n",
       "      <td>134574.014436</td>\n",
       "      <td>30</td>\n",
       "    </tr>\n",
       "    <tr>\n",
       "      <th>PENDIENTE</th>\n",
       "      <td>408252.086149</td>\n",
       "      <td>75</td>\n",
       "    </tr>\n",
       "  </tbody>\n",
       "</table>\n",
       "</div>"
      ],
      "text/plain": [
       "                           sum  count\n",
       "APPROVAL_STATUS                      \n",
       "APROBADA         134574.014436     30\n",
       "PENDIENTE        408252.086149     75"
      ]
     },
     "execution_count": 23,
     "metadata": {},
     "output_type": "execute_result"
    }
   ],
   "source": [
    "#2023, APPROVED V. PENDING\n",
    "df.loc[(df['YEAR'] == 2023) & (df['QUARTER'] == 'Q1'), 'QUOTATION'].groupby(df['APPROVAL_STATUS']).agg(['sum', 'count'])"
   ]
  },
  {
   "cell_type": "code",
   "execution_count": 25,
   "id": "65587be3",
   "metadata": {},
   "outputs": [
    {
     "data": {
      "image/png": "[encoded data removed]",
      "text/plain": [
       "<Figure size 640x480 with 1 Axes>"
      ]
     },
     "metadata": {},
     "output_type": "display_data"
    }
   ],
   "source": [
    "df.loc[(df['YEAR'] == 2023) & (df['QUARTER'] == 'Q1'), 'QUOTATION'].groupby(df['APPROVAL_STATUS']).sum().plot(kind='bar')\n",
    "plt.title('2023 - Approved v. Pending')\n",
    "plt.show()"
   ]
  },
  {
   "cell_type": "code",
   "execution_count": 40,
   "id": "31eacc85",
   "metadata": {},
   "outputs": [
    {
     "data": {
      "text/html": [
       "<div>\n",
       "<style scoped>\n",
       "    .dataframe tbody tr th:only-of-type {\n",
       "        vertical-align: middle;\n",
       "    }\n",
       "\n",
       "    .dataframe tbody tr th {\n",
       "        vertical-align: top;\n",
       "    }\n",
       "\n",
       "    .dataframe thead th {\n",
       "        text-align: right;\n",
       "    }\n",
       "</style>\n",
       "<table border=\"1\" class=\"dataframe\">\n",
       "  <thead>\n",
       "    <tr style=\"text-align: right;\">\n",
       "      <th></th>\n",
       "      <th></th>\n",
       "      <th></th>\n",
       "      <th>sum</th>\n",
       "      <th>count</th>\n",
       "    </tr>\n",
       "    <tr>\n",
       "      <th>QUARTER</th>\n",
       "      <th>EXECUTION_STATUS</th>\n",
       "      <th>TYPE</th>\n",
       "      <th></th>\n",
       "      <th></th>\n",
       "    </tr>\n",
       "  </thead>\n",
       "  <tbody>\n",
       "    <tr>\n",
       "      <th rowspan=\"4\" valign=\"top\">Q1</th>\n",
       "      <th rowspan=\"2\" valign=\"top\">EJECUTADO</th>\n",
       "      <th>INFRA</th>\n",
       "      <td>17811.650000</td>\n",
       "      <td>15</td>\n",
       "    </tr>\n",
       "    <tr>\n",
       "      <th>TORRE</th>\n",
       "      <td>41672.480000</td>\n",
       "      <td>10</td>\n",
       "    </tr>\n",
       "    <tr>\n",
       "      <th rowspan=\"2\" valign=\"top\">SIN EJECUCIÓN</th>\n",
       "      <th>INFRA</th>\n",
       "      <td>49517.330116</td>\n",
       "      <td>2</td>\n",
       "    </tr>\n",
       "    <tr>\n",
       "      <th>TORRE</th>\n",
       "      <td>25572.554320</td>\n",
       "      <td>3</td>\n",
       "    </tr>\n",
       "  </tbody>\n",
       "</table>\n",
       "</div>"
      ],
      "text/plain": [
       "                                         sum  count\n",
       "QUARTER EXECUTION_STATUS TYPE                      \n",
       "Q1      EJECUTADO        INFRA  17811.650000     15\n",
       "                         TORRE  41672.480000     10\n",
       "        SIN EJECUCIÓN    INFRA  49517.330116      2\n",
       "                         TORRE  25572.554320      3"
      ]
     },
     "execution_count": 40,
     "metadata": {},
     "output_type": "execute_result"
    }
   ],
   "source": [
    "df.loc[(df['YEAR'] == 2023) & (df['APPROVAL_STATUS'] == 'APROBADA'), 'QUOTATION'].groupby([df['QUARTER'], df['EXECUTION_STATUS'], df['TYPE']]).agg(['sum', 'count'])"
   ]
  }
 ],
 "metadata": {
  "kernelspec": {
   "display_name": "Python 3 (ipykernel)",
   "language": "python",
   "name": "python3"
  },
  "language_info": {
   "codemirror_mode": {
    "name": "ipython",
    "version": 3
   },
   "file_extension": ".py",
   "mimetype": "text/x-python",
   "name": "python",
   "nbconvert_exporter": "python",
   "pygments_lexer": "ipython3",
   "version": "3.9.13"
  }
 },
 "nbformat": 4,
 "nbformat_minor": 5
}
