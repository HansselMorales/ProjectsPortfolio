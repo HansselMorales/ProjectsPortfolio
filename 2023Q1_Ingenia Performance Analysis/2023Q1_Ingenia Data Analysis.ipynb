{
 "cells": [
  {
   "cell_type": "markdown",
   "id": "f8deaa35",
   "metadata": {},
   "source": [
    "# Ingenia Data Analysis (2022 - 2023)"
   ]
  },
  {
   "cell_type": "markdown",
   "id": "7852f2a2",
   "metadata": {},
   "source": [
    "In order to determine how the trends found last year have affected--and possibly improved the company's performance, it's critical to analyze the current performance."
   ]
  },
  {
   "cell_type": "markdown",
   "id": "2c31e89b",
   "metadata": {},
   "source": [
    "## General stats"
   ]
  },
  {
   "cell_type": "code",
   "execution_count": 82,
   "id": "237d6eb2",
   "metadata": {},
   "outputs": [],
   "source": [
    "import pandas as pd\n",
    "import numpy as np\n",
    "import matplotlib.pyplot as plt\n",
    "import seaborn as sns"
   ]
  },
  {
   "cell_type": "code",
   "execution_count": 84,
   "id": "0dee21ec",
   "metadata": {},
   "outputs": [
    {
     "data": {
      "text/html": [
       "<div>\n",
       "<style scoped>\n",
       "    .dataframe tbody tr th:only-of-type {\n",
       "        vertical-align: middle;\n",
       "    }\n",
       "\n",
       "    .dataframe tbody tr th {\n",
       "        vertical-align: top;\n",
       "    }\n",
       "\n",
       "    .dataframe thead th {\n",
       "        text-align: right;\n",
       "    }\n",
       "</style>\n",
       "<table border=\"1\" class=\"dataframe\">\n",
       "  <thead>\n",
       "    <tr style=\"text-align: right;\">\n",
       "      <th></th>\n",
       "      <th>YEAR</th>\n",
       "      <th>MONTH</th>\n",
       "      <th>QUARTER</th>\n",
       "      <th>SITE</th>\n",
       "      <th>TYPE</th>\n",
       "      <th>DESCRIPTION</th>\n",
       "      <th>LOCATION</th>\n",
       "      <th>ANALYST</th>\n",
       "      <th>REQUEST_DATE</th>\n",
       "      <th>SENDING_STATUS</th>\n",
       "      <th>DATE</th>\n",
       "      <th>APPROVAL_STATUS</th>\n",
       "      <th>APPROVAL_DATE</th>\n",
       "      <th>EXECUTION_STATUS</th>\n",
       "      <th>REPORT_DATE</th>\n",
       "      <th>START_DATE</th>\n",
       "      <th>END_DATE</th>\n",
       "      <th>QUOTATION</th>\n",
       "    </tr>\n",
       "  </thead>\n",
       "  <tbody>\n",
       "    <tr>\n",
       "      <th>0</th>\n",
       "      <td>2023</td>\n",
       "      <td>ENERO</td>\n",
       "      <td>Q1</td>\n",
       "      <td>SATÉLITE</td>\n",
       "      <td>TORRE</td>\n",
       "      <td>1. INSPECCIÓN - RELEVAMIENTO Y EE TORRE AUTOSO...</td>\n",
       "      <td>ANCASH</td>\n",
       "      <td>VARGAS</td>\n",
       "      <td>1-Jan</td>\n",
       "      <td>ENVIADA</td>\n",
       "      <td>1-Jan</td>\n",
       "      <td>PENDIENTE</td>\n",
       "      <td>PENDIENTE</td>\n",
       "      <td>SIN EJECUCIÓN</td>\n",
       "      <td>NaN</td>\n",
       "      <td>NaN</td>\n",
       "      <td>NaN</td>\n",
       "      <td>3565.09</td>\n",
       "    </tr>\n",
       "    <tr>\n",
       "      <th>1</th>\n",
       "      <td>2023</td>\n",
       "      <td>ENERO</td>\n",
       "      <td>Q1</td>\n",
       "      <td>CARAZ</td>\n",
       "      <td>TORRE</td>\n",
       "      <td>1. INSPECCIÓN - RELEVAMIENTO Y EE TORRE AUTOSO...</td>\n",
       "      <td>ANCASH</td>\n",
       "      <td>VARGAS</td>\n",
       "      <td>1-Jan</td>\n",
       "      <td>ENVIADA</td>\n",
       "      <td>1-Jan</td>\n",
       "      <td>PENDIENTE</td>\n",
       "      <td>PENDIENTE</td>\n",
       "      <td>SIN EJECUCIÓN</td>\n",
       "      <td>NaN</td>\n",
       "      <td>NaN</td>\n",
       "      <td>NaN</td>\n",
       "      <td>4011.13</td>\n",
       "    </tr>\n",
       "    <tr>\n",
       "      <th>2</th>\n",
       "      <td>2023</td>\n",
       "      <td>ENERO</td>\n",
       "      <td>Q1</td>\n",
       "      <td>VELASCO ASTETE</td>\n",
       "      <td>TORRE</td>\n",
       "      <td>1. INSPECCIÓN - RELEVAMIENTO Y EE TORRE ARRIOS...</td>\n",
       "      <td>CUSCO</td>\n",
       "      <td>VARGAS</td>\n",
       "      <td>1-Jan</td>\n",
       "      <td>ENVIADA</td>\n",
       "      <td>1-Jan</td>\n",
       "      <td>APROBADA</td>\n",
       "      <td>27-Jan</td>\n",
       "      <td>EJECUTADO</td>\n",
       "      <td>20-Feb</td>\n",
       "      <td>9-Feb</td>\n",
       "      <td>9-Feb</td>\n",
       "      <td>2472.94</td>\n",
       "    </tr>\n",
       "    <tr>\n",
       "      <th>3</th>\n",
       "      <td>2023</td>\n",
       "      <td>ENERO</td>\n",
       "      <td>Q1</td>\n",
       "      <td>AMBO</td>\n",
       "      <td>TORRE</td>\n",
       "      <td>1. INSPECCIÓN - RELEVAMIENTO Y EE TORRE AUTOSO...</td>\n",
       "      <td>AMBO</td>\n",
       "      <td>VARGAS</td>\n",
       "      <td>1-Jan</td>\n",
       "      <td>ENVIADA</td>\n",
       "      <td>1-Jan</td>\n",
       "      <td>PENDIENTE</td>\n",
       "      <td>PENDIENTE</td>\n",
       "      <td>SIN EJECUCIÓN</td>\n",
       "      <td>NaN</td>\n",
       "      <td>NaN</td>\n",
       "      <td>NaN</td>\n",
       "      <td>4011.13</td>\n",
       "    </tr>\n",
       "    <tr>\n",
       "      <th>4</th>\n",
       "      <td>2023</td>\n",
       "      <td>ENERO</td>\n",
       "      <td>Q1</td>\n",
       "      <td>AEROPISCO</td>\n",
       "      <td>TORRE</td>\n",
       "      <td>1. INSPECCIÓN - RELEVAMIENTO Y EE TORRE AUTOSO...</td>\n",
       "      <td>ICA</td>\n",
       "      <td>VARGAS</td>\n",
       "      <td>1-Jan</td>\n",
       "      <td>ENVIADA</td>\n",
       "      <td>1-Jan</td>\n",
       "      <td>PENDIENTE</td>\n",
       "      <td>PENDIENTE</td>\n",
       "      <td>SIN EJECUCIÓN</td>\n",
       "      <td>NaN</td>\n",
       "      <td>NaN</td>\n",
       "      <td>NaN</td>\n",
       "      <td>2827.33</td>\n",
       "    </tr>\n",
       "    <tr>\n",
       "      <th>...</th>\n",
       "      <td>...</td>\n",
       "      <td>...</td>\n",
       "      <td>...</td>\n",
       "      <td>...</td>\n",
       "      <td>...</td>\n",
       "      <td>...</td>\n",
       "      <td>...</td>\n",
       "      <td>...</td>\n",
       "      <td>...</td>\n",
       "      <td>...</td>\n",
       "      <td>...</td>\n",
       "      <td>...</td>\n",
       "      <td>...</td>\n",
       "      <td>...</td>\n",
       "      <td>...</td>\n",
       "      <td>...</td>\n",
       "      <td>...</td>\n",
       "      <td>...</td>\n",
       "    </tr>\n",
       "    <tr>\n",
       "      <th>372</th>\n",
       "      <td>2022</td>\n",
       "      <td>DICIEMBRE</td>\n",
       "      <td>Q4</td>\n",
       "      <td>SAN BORJA</td>\n",
       "      <td>INFRA</td>\n",
       "      <td>1. SUMINISTRO E INSTALACIÓN DE CANDADO Y CADEN...</td>\n",
       "      <td>LIMA</td>\n",
       "      <td>ORTEGA</td>\n",
       "      <td>21-Dec</td>\n",
       "      <td>ENVIADA</td>\n",
       "      <td>21-Dec</td>\n",
       "      <td>APROBADA</td>\n",
       "      <td>22-Dec</td>\n",
       "      <td>SIN EJECUCIÓN</td>\n",
       "      <td>NaN</td>\n",
       "      <td>NaN</td>\n",
       "      <td>NaN</td>\n",
       "      <td>203.62</td>\n",
       "    </tr>\n",
       "    <tr>\n",
       "      <th>373</th>\n",
       "      <td>2022</td>\n",
       "      <td>DICIEMBRE</td>\n",
       "      <td>Q4</td>\n",
       "      <td>PICSI</td>\n",
       "      <td>INFRA</td>\n",
       "      <td>1. CAMBIO DE BISAGRAS.</td>\n",
       "      <td>LIMA</td>\n",
       "      <td>ORTEGA</td>\n",
       "      <td>22-Dec</td>\n",
       "      <td>ENVIADA</td>\n",
       "      <td>22-Dec</td>\n",
       "      <td>PENDIENTE</td>\n",
       "      <td>22-Dec</td>\n",
       "      <td>SIN EJECUCIÓN</td>\n",
       "      <td>NaN</td>\n",
       "      <td>NaN</td>\n",
       "      <td>NaN</td>\n",
       "      <td>805.95</td>\n",
       "    </tr>\n",
       "    <tr>\n",
       "      <th>374</th>\n",
       "      <td>2022</td>\n",
       "      <td>DICIEMBRE</td>\n",
       "      <td>Q4</td>\n",
       "      <td>COCHERA MEDIA NETWORKS</td>\n",
       "      <td>INFRA</td>\n",
       "      <td>1. ENCUADRE DE PORTÓN DE INGRESO VEHICULAR.</td>\n",
       "      <td>LIMA</td>\n",
       "      <td>MARTÍNEZ</td>\n",
       "      <td>22-Dec</td>\n",
       "      <td>ENVIADA</td>\n",
       "      <td>23-Dec</td>\n",
       "      <td>PENDIENTE</td>\n",
       "      <td>22-Dec</td>\n",
       "      <td>SIN EJECUCIÓN</td>\n",
       "      <td>NaN</td>\n",
       "      <td>NaN</td>\n",
       "      <td>NaN</td>\n",
       "      <td>916.42</td>\n",
       "    </tr>\n",
       "    <tr>\n",
       "      <th>375</th>\n",
       "      <td>2022</td>\n",
       "      <td>DICIEMBRE</td>\n",
       "      <td>Q4</td>\n",
       "      <td>NUEVA CAÑ</td>\n",
       "      <td>INFRA</td>\n",
       "      <td>1. LIMPIEZA Y FUMIGACIÓN DE SALA DE EQUIPOS.\\n...</td>\n",
       "      <td>LIMA</td>\n",
       "      <td>ORTEGA</td>\n",
       "      <td>26-Dec</td>\n",
       "      <td>ENVIADA</td>\n",
       "      <td>26-Dec</td>\n",
       "      <td>PENDIENTE</td>\n",
       "      <td>22-Dec</td>\n",
       "      <td>SIN EJECUCIÓN</td>\n",
       "      <td>NaN</td>\n",
       "      <td>NaN</td>\n",
       "      <td>NaN</td>\n",
       "      <td>1688.09</td>\n",
       "    </tr>\n",
       "    <tr>\n",
       "      <th>376</th>\n",
       "      <td>2022</td>\n",
       "      <td>DICIEMBRE</td>\n",
       "      <td>Q4</td>\n",
       "      <td>MALA</td>\n",
       "      <td>INFRA</td>\n",
       "      <td>1. ENCUADRE DE PUERTA.</td>\n",
       "      <td>LIMA</td>\n",
       "      <td>ORTEGA</td>\n",
       "      <td>26-Dec</td>\n",
       "      <td>ENVIADA</td>\n",
       "      <td>26-Dec</td>\n",
       "      <td>PENDIENTE</td>\n",
       "      <td>22-Dec</td>\n",
       "      <td>SIN EJECUCIÓN</td>\n",
       "      <td>NaN</td>\n",
       "      <td>NaN</td>\n",
       "      <td>NaN</td>\n",
       "      <td>621.07</td>\n",
       "    </tr>\n",
       "  </tbody>\n",
       "</table>\n",
       "<p>377 rows × 18 columns</p>\n",
       "</div>"
      ],
      "text/plain": [
       "     YEAR      MONTH QUARTER                    SITE   TYPE  \\\n",
       "0    2023      ENERO      Q1                SATÉLITE  TORRE   \n",
       "1    2023      ENERO      Q1                   CARAZ  TORRE   \n",
       "2    2023      ENERO      Q1          VELASCO ASTETE  TORRE   \n",
       "3    2023      ENERO      Q1                    AMBO  TORRE   \n",
       "4    2023      ENERO      Q1               AEROPISCO  TORRE   \n",
       "..    ...        ...     ...                     ...    ...   \n",
       "372  2022  DICIEMBRE      Q4               SAN BORJA  INFRA   \n",
       "373  2022  DICIEMBRE      Q4                   PICSI  INFRA   \n",
       "374  2022  DICIEMBRE      Q4  COCHERA MEDIA NETWORKS  INFRA   \n",
       "375  2022  DICIEMBRE      Q4               NUEVA CAÑ  INFRA   \n",
       "376  2022  DICIEMBRE      Q4                    MALA  INFRA   \n",
       "\n",
       "                                           DESCRIPTION LOCATION   ANALYST  \\\n",
       "0    1. INSPECCIÓN - RELEVAMIENTO Y EE TORRE AUTOSO...   ANCASH    VARGAS   \n",
       "1    1. INSPECCIÓN - RELEVAMIENTO Y EE TORRE AUTOSO...   ANCASH    VARGAS   \n",
       "2    1. INSPECCIÓN - RELEVAMIENTO Y EE TORRE ARRIOS...    CUSCO    VARGAS   \n",
       "3    1. INSPECCIÓN - RELEVAMIENTO Y EE TORRE AUTOSO...     AMBO    VARGAS   \n",
       "4    1. INSPECCIÓN - RELEVAMIENTO Y EE TORRE AUTOSO...      ICA    VARGAS   \n",
       "..                                                 ...      ...       ...   \n",
       "372  1. SUMINISTRO E INSTALACIÓN DE CANDADO Y CADEN...     LIMA    ORTEGA   \n",
       "373                             1. CAMBIO DE BISAGRAS.     LIMA    ORTEGA   \n",
       "374        1. ENCUADRE DE PORTÓN DE INGRESO VEHICULAR.     LIMA  MARTÍNEZ   \n",
       "375  1. LIMPIEZA Y FUMIGACIÓN DE SALA DE EQUIPOS.\\n...     LIMA    ORTEGA   \n",
       "376                             1. ENCUADRE DE PUERTA.     LIMA    ORTEGA   \n",
       "\n",
       "    REQUEST_DATE SENDING_STATUS    DATE APPROVAL_STATUS APPROVAL_DATE  \\\n",
       "0          1-Jan        ENVIADA   1-Jan       PENDIENTE     PENDIENTE   \n",
       "1          1-Jan        ENVIADA   1-Jan       PENDIENTE     PENDIENTE   \n",
       "2          1-Jan        ENVIADA   1-Jan        APROBADA        27-Jan   \n",
       "3          1-Jan        ENVIADA   1-Jan       PENDIENTE     PENDIENTE   \n",
       "4          1-Jan        ENVIADA   1-Jan       PENDIENTE     PENDIENTE   \n",
       "..           ...            ...     ...             ...           ...   \n",
       "372       21-Dec        ENVIADA  21-Dec        APROBADA        22-Dec   \n",
       "373       22-Dec        ENVIADA  22-Dec       PENDIENTE        22-Dec   \n",
       "374       22-Dec        ENVIADA  23-Dec       PENDIENTE        22-Dec   \n",
       "375       26-Dec        ENVIADA  26-Dec       PENDIENTE        22-Dec   \n",
       "376       26-Dec        ENVIADA  26-Dec       PENDIENTE        22-Dec   \n",
       "\n",
       "    EXECUTION_STATUS REPORT_DATE START_DATE END_DATE QUOTATION  \n",
       "0      SIN EJECUCIÓN         NaN        NaN      NaN   3565.09  \n",
       "1      SIN EJECUCIÓN         NaN        NaN      NaN   4011.13  \n",
       "2          EJECUTADO      20-Feb      9-Feb    9-Feb   2472.94  \n",
       "3      SIN EJECUCIÓN         NaN        NaN      NaN   4011.13  \n",
       "4      SIN EJECUCIÓN         NaN        NaN      NaN   2827.33  \n",
       "..               ...         ...        ...      ...       ...  \n",
       "372    SIN EJECUCIÓN         NaN        NaN      NaN    203.62  \n",
       "373    SIN EJECUCIÓN         NaN        NaN      NaN    805.95  \n",
       "374    SIN EJECUCIÓN         NaN        NaN      NaN    916.42  \n",
       "375    SIN EJECUCIÓN         NaN        NaN      NaN   1688.09  \n",
       "376    SIN EJECUCIÓN         NaN        NaN      NaN    621.07  \n",
       "\n",
       "[377 rows x 18 columns]"
      ]
     },
     "execution_count": 84,
     "metadata": {},
     "output_type": "execute_result"
    }
   ],
   "source": [
    "df = pd.read_csv('STATUS ASIGNACIÓN INDRA_GENERAL (HANSSEL)_2023.csv', encoding = 'latin-1', )\n",
    "df"
   ]
  },
  {
   "cell_type": "code",
   "execution_count": 86,
   "id": "876b51ff",
   "metadata": {},
   "outputs": [
    {
     "name": "stdout",
     "output_type": "stream",
     "text": [
      "<class 'pandas.core.frame.DataFrame'>\n",
      "RangeIndex: 377 entries, 0 to 376\n",
      "Data columns (total 18 columns):\n",
      " #   Column            Non-Null Count  Dtype \n",
      "---  ------            --------------  ----- \n",
      " 0   YEAR              377 non-null    int64 \n",
      " 1   MONTH             377 non-null    object\n",
      " 2   QUARTER           377 non-null    object\n",
      " 3   SITE              377 non-null    object\n",
      " 4   TYPE              377 non-null    object\n",
      " 5   DESCRIPTION       377 non-null    object\n",
      " 6   LOCATION          377 non-null    object\n",
      " 7   ANALYST           377 non-null    object\n",
      " 8   REQUEST_DATE      377 non-null    object\n",
      " 9   SENDING_STATUS    377 non-null    object\n",
      " 10  DATE              377 non-null    object\n",
      " 11  APPROVAL_STATUS   377 non-null    object\n",
      " 12  APPROVAL_DATE     377 non-null    object\n",
      " 13  EXECUTION_STATUS  377 non-null    object\n",
      " 14  REPORT_DATE       110 non-null    object\n",
      " 15  START_DATE        113 non-null    object\n",
      " 16  END_DATE          113 non-null    object\n",
      " 17  QUOTATION         377 non-null    object\n",
      "dtypes: int64(1), object(17)\n",
      "memory usage: 53.1+ KB\n"
     ]
    }
   ],
   "source": [
    "df.info()"
   ]
  },
  {
   "cell_type": "code",
   "execution_count": 87,
   "id": "e7f9a40e",
   "metadata": {},
   "outputs": [
    {
     "data": {
      "text/plain": [
       "(377, 18)"
      ]
     },
     "execution_count": 87,
     "metadata": {},
     "output_type": "execute_result"
    }
   ],
   "source": [
    "df.shape"
   ]
  },
  {
   "cell_type": "code",
   "execution_count": 88,
   "id": "30654ba5",
   "metadata": {},
   "outputs": [
    {
     "data": {
      "text/html": [
       "<div>\n",
       "<style scoped>\n",
       "    .dataframe tbody tr th:only-of-type {\n",
       "        vertical-align: middle;\n",
       "    }\n",
       "\n",
       "    .dataframe tbody tr th {\n",
       "        vertical-align: top;\n",
       "    }\n",
       "\n",
       "    .dataframe thead th {\n",
       "        text-align: right;\n",
       "    }\n",
       "</style>\n",
       "<table border=\"1\" class=\"dataframe\">\n",
       "  <thead>\n",
       "    <tr style=\"text-align: right;\">\n",
       "      <th></th>\n",
       "      <th>YEAR</th>\n",
       "    </tr>\n",
       "  </thead>\n",
       "  <tbody>\n",
       "    <tr>\n",
       "      <th>count</th>\n",
       "      <td>377.000000</td>\n",
       "    </tr>\n",
       "    <tr>\n",
       "      <th>mean</th>\n",
       "      <td>2022.169761</td>\n",
       "    </tr>\n",
       "    <tr>\n",
       "      <th>std</th>\n",
       "      <td>0.375922</td>\n",
       "    </tr>\n",
       "    <tr>\n",
       "      <th>min</th>\n",
       "      <td>2022.000000</td>\n",
       "    </tr>\n",
       "    <tr>\n",
       "      <th>25%</th>\n",
       "      <td>2022.000000</td>\n",
       "    </tr>\n",
       "    <tr>\n",
       "      <th>50%</th>\n",
       "      <td>2022.000000</td>\n",
       "    </tr>\n",
       "    <tr>\n",
       "      <th>75%</th>\n",
       "      <td>2022.000000</td>\n",
       "    </tr>\n",
       "    <tr>\n",
       "      <th>max</th>\n",
       "      <td>2023.000000</td>\n",
       "    </tr>\n",
       "  </tbody>\n",
       "</table>\n",
       "</div>"
      ],
      "text/plain": [
       "              YEAR\n",
       "count   377.000000\n",
       "mean   2022.169761\n",
       "std       0.375922\n",
       "min    2022.000000\n",
       "25%    2022.000000\n",
       "50%    2022.000000\n",
       "75%    2022.000000\n",
       "max    2023.000000"
      ]
     },
     "execution_count": 88,
     "metadata": {},
     "output_type": "execute_result"
    }
   ],
   "source": [
    "df.describe()"
   ]
  },
  {
   "cell_type": "markdown",
   "id": "cf20fdbf",
   "metadata": {},
   "source": [
    "#### Transforming \"QUOTATION\" values into numeric values"
   ]
  },
  {
   "cell_type": "code",
   "execution_count": 89,
   "id": "855c66ff",
   "metadata": {},
   "outputs": [],
   "source": [
    "df['QUOTATION'] = pd.to_numeric(df['QUOTATION'], errors='coerce')\n",
    "df = df.replace(np.nan, 0, regex=True)"
   ]
  },
  {
   "cell_type": "code",
   "execution_count": 90,
   "id": "d4fef0db",
   "metadata": {},
   "outputs": [
    {
     "name": "stdout",
     "output_type": "stream",
     "text": [
      "<class 'pandas.core.series.Series'>\n",
      "RangeIndex: 377 entries, 0 to 376\n",
      "Series name: QUOTATION\n",
      "Non-Null Count  Dtype  \n",
      "--------------  -----  \n",
      "377 non-null    float64\n",
      "dtypes: float64(1)\n",
      "memory usage: 3.1 KB\n"
     ]
    }
   ],
   "source": [
    "df['QUOTATION'].info()"
   ]
  },
  {
   "cell_type": "code",
   "execution_count": 91,
   "id": "682a7cf6",
   "metadata": {},
   "outputs": [
    {
     "data": {
      "text/plain": [
       "75852.26"
      ]
     },
     "execution_count": 91,
     "metadata": {},
     "output_type": "execute_result"
    }
   ],
   "source": [
    "df.loc[(df['YEAR'] == 2023) & (df['APPROVAL_STATUS'] == 'APROBADA'), 'QUOTATION'].sum()"
   ]
  },
  {
   "cell_type": "markdown",
   "id": "71acda93",
   "metadata": {},
   "source": [
    "Total 2023 revenue, so far."
   ]
  },
  {
   "cell_type": "code",
   "execution_count": 92,
   "id": "4aa03ad4",
   "metadata": {},
   "outputs": [
    {
     "data": {
      "text/html": [
       "<div>\n",
       "<style scoped>\n",
       "    .dataframe tbody tr th:only-of-type {\n",
       "        vertical-align: middle;\n",
       "    }\n",
       "\n",
       "    .dataframe tbody tr th {\n",
       "        vertical-align: top;\n",
       "    }\n",
       "\n",
       "    .dataframe thead th {\n",
       "        text-align: right;\n",
       "    }\n",
       "</style>\n",
       "<table border=\"1\" class=\"dataframe\">\n",
       "  <thead>\n",
       "    <tr style=\"text-align: right;\">\n",
       "      <th></th>\n",
       "      <th>QUOTATION</th>\n",
       "    </tr>\n",
       "    <tr>\n",
       "      <th>TYPE</th>\n",
       "      <th></th>\n",
       "    </tr>\n",
       "  </thead>\n",
       "  <tbody>\n",
       "    <tr>\n",
       "      <th>INFRA</th>\n",
       "      <td>13641.65</td>\n",
       "    </tr>\n",
       "    <tr>\n",
       "      <th>TORRE</th>\n",
       "      <td>62210.61</td>\n",
       "    </tr>\n",
       "  </tbody>\n",
       "</table>\n",
       "</div>"
      ],
      "text/plain": [
       "       QUOTATION\n",
       "TYPE            \n",
       "INFRA   13641.65\n",
       "TORRE   62210.61"
      ]
     },
     "execution_count": 92,
     "metadata": {},
     "output_type": "execute_result"
    }
   ],
   "source": [
    "df.loc[(df['YEAR'] == 2023) & (df['APPROVAL_STATUS'] == 'APROBADA'), 'QUOTATION'].groupby(df['TYPE']).sum().to_frame()"
   ]
  },
  {
   "cell_type": "markdown",
   "id": "abd42eba",
   "metadata": {},
   "source": [
    "Tower (TORRE) related services have brought much more revenue than Infrastructure (INFRA) related ones, so far."
   ]
  },
  {
   "cell_type": "markdown",
   "id": "8b0b1392",
   "metadata": {},
   "source": [
    "## Comparison between 2022 and 2023 data"
   ]
  },
  {
   "cell_type": "code",
   "execution_count": 93,
   "id": "152f4863",
   "metadata": {},
   "outputs": [
    {
     "data": {
      "text/html": [
       "<div>\n",
       "<style scoped>\n",
       "    .dataframe tbody tr th:only-of-type {\n",
       "        vertical-align: middle;\n",
       "    }\n",
       "\n",
       "    .dataframe tbody tr th {\n",
       "        vertical-align: top;\n",
       "    }\n",
       "\n",
       "    .dataframe thead th {\n",
       "        text-align: right;\n",
       "    }\n",
       "</style>\n",
       "<table border=\"1\" class=\"dataframe\">\n",
       "  <thead>\n",
       "    <tr style=\"text-align: right;\">\n",
       "      <th></th>\n",
       "      <th>sum</th>\n",
       "      <th>count</th>\n",
       "    </tr>\n",
       "    <tr>\n",
       "      <th>YEAR</th>\n",
       "      <th></th>\n",
       "      <th></th>\n",
       "    </tr>\n",
       "  </thead>\n",
       "  <tbody>\n",
       "    <tr>\n",
       "      <th>2022</th>\n",
       "      <td>347963.56</td>\n",
       "      <td>108</td>\n",
       "    </tr>\n",
       "    <tr>\n",
       "      <th>2023</th>\n",
       "      <td>75852.26</td>\n",
       "      <td>17</td>\n",
       "    </tr>\n",
       "  </tbody>\n",
       "</table>\n",
       "</div>"
      ],
      "text/plain": [
       "            sum  count\n",
       "YEAR                  \n",
       "2022  347963.56    108\n",
       "2023   75852.26     17"
      ]
     },
     "execution_count": 93,
     "metadata": {},
     "output_type": "execute_result"
    }
   ],
   "source": [
    "revenue_per_year = df.loc[df['APPROVAL_STATUS'] == 'APROBADA', 'QUOTATION'].groupby(df['YEAR'])\n",
    "revenue_per_year.agg(['sum', 'count'])"
   ]
  },
  {
   "cell_type": "code",
   "execution_count": 94,
   "id": "1d7f2281",
   "metadata": {},
   "outputs": [
    {
     "data": {
      "image/png": "[encoded data removed]",
      "text/plain": [
       "<Figure size 640x480 with 1 Axes>"
      ]
     },
     "metadata": {},
     "output_type": "display_data"
    }
   ],
   "source": [
    "revenue_per_year.sum().plot(kind='bar')\n",
    "plt.title('Revenue per Year')\n",
    "plt.show()"
   ]
  },
  {
   "cell_type": "markdown",
   "id": "d787d567",
   "metadata": {},
   "source": [
    "2023's revenue has reached a 20% of 2022's total revenue."
   ]
  },
  {
   "cell_type": "code",
   "execution_count": 95,
   "id": "f91c7a51",
   "metadata": {},
   "outputs": [
    {
     "data": {
      "text/html": [
       "<div>\n",
       "<style scoped>\n",
       "    .dataframe tbody tr th:only-of-type {\n",
       "        vertical-align: middle;\n",
       "    }\n",
       "\n",
       "    .dataframe tbody tr th {\n",
       "        vertical-align: top;\n",
       "    }\n",
       "\n",
       "    .dataframe thead th {\n",
       "        text-align: right;\n",
       "    }\n",
       "</style>\n",
       "<table border=\"1\" class=\"dataframe\">\n",
       "  <thead>\n",
       "    <tr style=\"text-align: right;\">\n",
       "      <th></th>\n",
       "      <th></th>\n",
       "      <th>QUOTATION</th>\n",
       "    </tr>\n",
       "    <tr>\n",
       "      <th>YEAR</th>\n",
       "      <th>TYPE</th>\n",
       "      <th></th>\n",
       "    </tr>\n",
       "  </thead>\n",
       "  <tbody>\n",
       "    <tr>\n",
       "      <th rowspan=\"2\" valign=\"top\">2022</th>\n",
       "      <th>INFRA</th>\n",
       "      <td>209121.78</td>\n",
       "    </tr>\n",
       "    <tr>\n",
       "      <th>TORRE</th>\n",
       "      <td>138841.78</td>\n",
       "    </tr>\n",
       "    <tr>\n",
       "      <th rowspan=\"2\" valign=\"top\">2023</th>\n",
       "      <th>INFRA</th>\n",
       "      <td>13641.65</td>\n",
       "    </tr>\n",
       "    <tr>\n",
       "      <th>TORRE</th>\n",
       "      <td>62210.61</td>\n",
       "    </tr>\n",
       "  </tbody>\n",
       "</table>\n",
       "</div>"
      ],
      "text/plain": [
       "            QUOTATION\n",
       "YEAR TYPE            \n",
       "2022 INFRA  209121.78\n",
       "     TORRE  138841.78\n",
       "2023 INFRA   13641.65\n",
       "     TORRE   62210.61"
      ]
     },
     "execution_count": 95,
     "metadata": {},
     "output_type": "execute_result"
    }
   ],
   "source": [
    "revenue_per_type_year = df.loc[df['APPROVAL_STATUS'] == 'APROBADA', 'QUOTATION'].groupby([df['YEAR'], df['TYPE']]).sum().to_frame()\n",
    "revenue_per_type_year"
   ]
  },
  {
   "cell_type": "code",
   "execution_count": 96,
   "id": "1731d2dd",
   "metadata": {},
   "outputs": [
    {
     "data": {
      "image/png": "[encoded data removed]",
      "text/plain": [
       "<Figure size 640x480 with 1 Axes>"
      ]
     },
     "metadata": {},
     "output_type": "display_data"
    }
   ],
   "source": [
    "revenue_per_type_year.plot(kind='bar')\n",
    "plt.title('Renevue per Type of Service')\n",
    "plt.show()"
   ]
  },
  {
   "cell_type": "markdown",
   "id": "70df0e54",
   "metadata": {},
   "source": [
    "Tower services represent 80%+ of 2023's overall revenue."
   ]
  },
  {
   "cell_type": "code",
   "execution_count": 97,
   "id": "902a5da3",
   "metadata": {},
   "outputs": [
    {
     "data": {
      "text/html": [
       "<div>\n",
       "<style scoped>\n",
       "    .dataframe tbody tr th:only-of-type {\n",
       "        vertical-align: middle;\n",
       "    }\n",
       "\n",
       "    .dataframe tbody tr th {\n",
       "        vertical-align: top;\n",
       "    }\n",
       "\n",
       "    .dataframe thead th {\n",
       "        text-align: right;\n",
       "    }\n",
       "</style>\n",
       "<table border=\"1\" class=\"dataframe\">\n",
       "  <thead>\n",
       "    <tr style=\"text-align: right;\">\n",
       "      <th></th>\n",
       "      <th></th>\n",
       "      <th>QUOTATION</th>\n",
       "    </tr>\n",
       "    <tr>\n",
       "      <th>YEAR</th>\n",
       "      <th>QUARTER</th>\n",
       "      <th></th>\n",
       "    </tr>\n",
       "  </thead>\n",
       "  <tbody>\n",
       "    <tr>\n",
       "      <th rowspan=\"4\" valign=\"top\">2022</th>\n",
       "      <th>Q1</th>\n",
       "      <td>34409.23</td>\n",
       "    </tr>\n",
       "    <tr>\n",
       "      <th>Q2</th>\n",
       "      <td>136040.88</td>\n",
       "    </tr>\n",
       "    <tr>\n",
       "      <th>Q3</th>\n",
       "      <td>55571.04</td>\n",
       "    </tr>\n",
       "    <tr>\n",
       "      <th>Q4</th>\n",
       "      <td>121942.41</td>\n",
       "    </tr>\n",
       "    <tr>\n",
       "      <th>2023</th>\n",
       "      <th>Q1</th>\n",
       "      <td>75852.26</td>\n",
       "    </tr>\n",
       "  </tbody>\n",
       "</table>\n",
       "</div>"
      ],
      "text/plain": [
       "              QUOTATION\n",
       "YEAR QUARTER           \n",
       "2022 Q1        34409.23\n",
       "     Q2       136040.88\n",
       "     Q3        55571.04\n",
       "     Q4       121942.41\n",
       "2023 Q1        75852.26"
      ]
     },
     "execution_count": 97,
     "metadata": {},
     "output_type": "execute_result"
    }
   ],
   "source": [
    "df.loc[df['APPROVAL_STATUS'] == 'APROBADA', 'QUOTATION'].groupby([df['YEAR'], df['QUARTER']]).sum().to_frame()"
   ]
  },
  {
   "cell_type": "code",
   "execution_count": 98,
   "id": "f685f470",
   "metadata": {},
   "outputs": [
    {
     "data": {
      "image/png": "[encoded data removed]",
      "text/plain": [
       "<Figure size 640x480 with 1 Axes>"
      ]
     },
     "metadata": {},
     "output_type": "display_data"
    }
   ],
   "source": [
    "df.loc[df['APPROVAL_STATUS'] == 'APROBADA', 'QUOTATION'].groupby([df['YEAR'], df['QUARTER']]).sum().to_frame().plot(kind='bar')\n",
    "plt.title('Revenue per Quarter')\n",
    "plt.show()"
   ]
  },
  {
   "cell_type": "markdown",
   "id": "5e4b356f",
   "metadata": {},
   "source": [
    "Q1's revenue (Feb 2023) has already overcome 2022 Q1's revenue as well as 2022 Q3's revenue."
   ]
  },
  {
   "cell_type": "markdown",
   "id": "03e94709",
   "metadata": {},
   "source": [
    "## 2023 stats"
   ]
  },
  {
   "cell_type": "code",
   "execution_count": 99,
   "id": "18ca3554",
   "metadata": {},
   "outputs": [
    {
     "data": {
      "text/html": [
       "<div>\n",
       "<style scoped>\n",
       "    .dataframe tbody tr th:only-of-type {\n",
       "        vertical-align: middle;\n",
       "    }\n",
       "\n",
       "    .dataframe tbody tr th {\n",
       "        vertical-align: top;\n",
       "    }\n",
       "\n",
       "    .dataframe thead th {\n",
       "        text-align: right;\n",
       "    }\n",
       "</style>\n",
       "<table border=\"1\" class=\"dataframe\">\n",
       "  <thead>\n",
       "    <tr style=\"text-align: right;\">\n",
       "      <th></th>\n",
       "      <th>sum</th>\n",
       "      <th>count</th>\n",
       "    </tr>\n",
       "    <tr>\n",
       "      <th>ANALYST</th>\n",
       "      <th></th>\n",
       "      <th></th>\n",
       "    </tr>\n",
       "  </thead>\n",
       "  <tbody>\n",
       "    <tr>\n",
       "      <th>MARTÍNEZ</th>\n",
       "      <td>11191.58</td>\n",
       "      <td>2</td>\n",
       "    </tr>\n",
       "    <tr>\n",
       "      <th>ORTEGA</th>\n",
       "      <td>590.14</td>\n",
       "      <td>1</td>\n",
       "    </tr>\n",
       "    <tr>\n",
       "      <th>VARGAS</th>\n",
       "      <td>64070.54</td>\n",
       "      <td>14</td>\n",
       "    </tr>\n",
       "  </tbody>\n",
       "</table>\n",
       "</div>"
      ],
      "text/plain": [
       "               sum  count\n",
       "ANALYST                  \n",
       "MARTÍNEZ  11191.58      2\n",
       "ORTEGA      590.14      1\n",
       "VARGAS    64070.54     14"
      ]
     },
     "execution_count": 99,
     "metadata": {},
     "output_type": "execute_result"
    }
   ],
   "source": [
    "df.loc[(df['APPROVAL_STATUS'] == 'APROBADA') & (df['YEAR'] == 2023), 'QUOTATION'].groupby(df['ANALYST']).agg(['sum', 'count'])"
   ]
  },
  {
   "cell_type": "code",
   "execution_count": 100,
   "id": "fcc4896f",
   "metadata": {},
   "outputs": [
    {
     "data": {
      "image/png": "[encoded data removed]",
      "text/plain": [
       "<Figure size 640x480 with 1 Axes>"
      ]
     },
     "metadata": {},
     "output_type": "display_data"
    }
   ],
   "source": [
    "df.loc[(df['APPROVAL_STATUS'] == 'APROBADA') & (df['YEAR'] == 2023), 'QUOTATION'].groupby(df['ANALYST']).sum().plot(kind='bar')\n",
    "plt.title('Revenue per Analyst')\n",
    "plt.show()"
   ]
  },
  {
   "cell_type": "markdown",
   "id": "9d7b97c9",
   "metadata": {},
   "source": [
    "Vargas has been the most profitable analyst, so far. The incomes generated through him represent 85%+ of 2023's overall revenue."
   ]
  },
  {
   "cell_type": "markdown",
   "id": "edc72779",
   "metadata": {},
   "source": [
    "## Conclusions"
   ]
  },
  {
   "cell_type": "markdown",
   "id": "edac7153",
   "metadata": {},
   "source": [
    "1. Since 2023 Q1's revenue has largely overcome 2022 Q1's revenue (2X), it's correct to affirm that the current performance is doing great."
   ]
  },
  {
   "cell_type": "markdown",
   "id": "834a43c5",
   "metadata": {},
   "source": [
    "2. 80%+ of 2023's revenue has been produced by the execution of Tower services."
   ]
  },
  {
   "cell_type": "markdown",
   "id": "087ccfc8",
   "metadata": {},
   "source": [
    "3. 85%+ of 2023's revenue has been produced by the execution of Vargas' approved services, as determined in 2022's Analysis. Given that, the insights found last year have been determinant to predict which Analyst was the top priority."
   ]
  }
 ],
 "metadata": {
  "kernelspec": {
   "display_name": "Python 3 (ipykernel)",
   "language": "python",
   "name": "python3"
  },
  "language_info": {
   "codemirror_mode": {
    "name": "ipython",
    "version": 3
   },
   "file_extension": ".py",
   "mimetype": "text/x-python",
   "name": "python",
   "nbconvert_exporter": "python",
   "pygments_lexer": "ipython3",
   "version": "3.9.13"
  }
 },
 "nbformat": 4,
 "nbformat_minor": 5
}
